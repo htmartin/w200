{
 "cells": [
  {
   "cell_type": "code",
   "execution_count": null,
   "id": "2fbf4869",
   "metadata": {},
   "outputs": [],
   "source": [
    "# Implement this digit-by-digit algorithm to find the square root of x \n",
    "#to a precision of epsilon.\n",
    "\n",
    "# Begin with a step size of 1 and guess of zero.\n",
    "# Increase the guess by the step size as long as doing so \n",
    "#would not cause the guess^2 to exceed x. \n",
    "# Repeat this step (step 2) \n",
    "# until the next repetition will cause guess^2 to exceed x.\n",
    "# If the step size is greater than or equal to epsilon, \n",
    "# then divide the step size by 10 and go back to step 2.\n",
    "# Notice that once a digit has been found, it is not changed again. \n",
    "# Try using your code to find the square \n",
    "# root of 10 to an epsilon of 10 decimal places. \n",
    "# This algorithm should not take over 30 seconds to run \n",
    "# (if it does you have coded something incorrectly!).\n",
    "\n",
    "# If you are getting an answer that is off by epsilon \n",
    "# (for example 3.1622776602 instead of 3.1622776601), \n",
    "# this might be caused by the floating point error. \n",
    "# You can read more about that here: \n",
    "#     https://docs.python.org/3/tutorial/floatingpoint.html. \n",
    "#         To fix this problem, you can use the \n",
    "#         Decimal library here: \n",
    "# https://docs.python.org/3/library/decimal.html#module-decimal\n",
    "\n",
    "# Hint: It might be helpful to write out by hand an easier example \n",
    "# like '4' to understand how the algorithm works.\n",
    "\n",
    "# Example output:\n",
    "\n",
    "# Enter a number to find the square root: 10\n",
    "# The square root of 10 is 3.1622776601."
   ]
  },
  {
   "cell_type": "code",
   "execution_count": 5,
   "id": "1349dd21",
   "metadata": {},
   "outputs": [],
   "source": [
    "# Begin with a step size of 1 and guess of zero.\n",
    "x =10\n",
    "step_size = 1  \n",
    "guess = 0\n",
    "epsilon = .0000001\n",
    "num_guesses = 0"
   ]
  },
  {
   "cell_type": "code",
   "execution_count": null,
   "id": "2dcaf4d5",
   "metadata": {},
   "outputs": [],
   "source": [
    "# S2:\n",
    "#Increase the guess by the step size as long as doing so \n",
    "#would not cause the guess^2 to exceed x. \n",
    "while guess**2 < x:\n",
    "    guess += step_size\n",
    "    num_guesses+=1\n",
    "    if guess**2 > x:\n",
    "        break\n",
    "    print('x =',x, 'guess^2 =', guess**2)\n",
    "    if step_size >= epsilon:\n",
    "        step_size =step_size/10\n",
    "        print('step_size =',step_size, 'guess =', guess, 'num_guesses =', num_guesses)"
   ]
  },
  {
   "cell_type": "code",
   "execution_count": null,
   "id": "32594198",
   "metadata": {},
   "outputs": [],
   "source": [
    "# DONE:Repeat this step (step 2) \n",
    "# until the next repetition will cause guess^2 to exceed x.\n",
    "# added:\n",
    "#if guess**2 > x:\n",
    "       # break"
   ]
  },
  {
   "cell_type": "code",
   "execution_count": null,
   "id": "5a733671",
   "metadata": {},
   "outputs": [],
   "source": [
    "# DONE:If the step size is greater than or equal to epsilon, \n",
    "# then divide the step size by 10 and go back to step 2.\n",
    "\n",
    "    "
   ]
  },
  {
   "cell_type": "code",
   "execution_count": null,
   "id": "9aa360e5",
   "metadata": {},
   "outputs": [],
   "source": [
    "# Try using your code to find the square \n",
    "# root of 10 to an epsilon of 10 decimal places. "
   ]
  }
 ],
 "metadata": {
  "environment": {
   "name": "tf2-gpu.2-1.m46",
   "type": "gcloud",
   "uri": "gcr.io/deeplearning-platform-release/tf2-gpu.2-1:m46"
  },
  "kernelspec": {
   "display_name": "Python 3",
   "language": "python",
   "name": "python3"
  },
  "language_info": {
   "codemirror_mode": {
    "name": "ipython",
    "version": 3
   },
   "file_extension": ".py",
   "mimetype": "text/x-python",
   "name": "python",
   "nbconvert_exporter": "python",
   "pygments_lexer": "ipython3",
   "version": "3.7.6"
  }
 },
 "nbformat": 4,
 "nbformat_minor": 5
}
