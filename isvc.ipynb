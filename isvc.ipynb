{
 "cells": [
  {
   "cell_type": "code",
   "execution_count": 1,
   "id": "fce794bc",
   "metadata": {},
   "outputs": [],
   "source": [
    "def foo(a, b, c):\n",
    "    arguments = locals()\n",
    "    return ''.join(str(arguments[k]) for k in sorted(arguments.keys()) if arguments[k] is not None)\n",
    "\n",
    "#'Antioch3'"
   ]
  },
  {
   "cell_type": "code",
   "execution_count": 2,
   "id": "8a109f57",
   "metadata": {},
   "outputs": [
    {
     "data": {
      "text/plain": [
       "'Antioch3'"
      ]
     },
     "execution_count": 2,
     "metadata": {},
     "output_type": "execute_result"
    }
   ],
   "source": [
    "foo(None, 'Antioch', 3)\n"
   ]
  },
  {
   "cell_type": "code",
   "execution_count": null,
   "id": "73a62a33",
   "metadata": {},
   "outputs": [],
   "source": []
  }
 ],
 "metadata": {
  "environment": {
   "name": "tf2-gpu.2-1.m46",
   "type": "gcloud",
   "uri": "gcr.io/deeplearning-platform-release/tf2-gpu.2-1:m46"
  },
  "kernelspec": {
   "display_name": "Python 3",
   "language": "python",
   "name": "python3"
  },
  "language_info": {
   "codemirror_mode": {
    "name": "ipython",
    "version": 3
   },
   "file_extension": ".py",
   "mimetype": "text/x-python",
   "name": "python",
   "nbconvert_exporter": "python",
   "pygments_lexer": "ipython3",
   "version": "3.7.6"
  }
 },
 "nbformat": 4,
 "nbformat_minor": 5
}
