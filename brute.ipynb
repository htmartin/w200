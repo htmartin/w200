{
 "cells": [
  {
   "cell_type": "code",
   "execution_count": null,
   "id": "8f23d4d2",
   "metadata": {},
   "outputs": [],
   "source": [
    "x = float(input('enter a number:'))\n",
    "\n",
    "\n",
    "num_guesses = 0\n",
    "epsilon = .0000000001\n",
    "guess = 0.0\n",
    "\n",
    "while guess**2 <= x:\n",
    "    guess+= epsilon\n",
    "    num_guesses+=1\n",
    "    \n",
    "print( guess, 'is close to the sqrt of ', x)    \n",
    "print('num_guesses =', num_guesses)    "
   ]
  },
  {
   "cell_type": "code",
   "execution_count": 4,
   "id": "ed2e16bd",
   "metadata": {},
   "outputs": [
    {
     "data": {
      "text/plain": [
       "8.30004576045996"
      ]
     },
     "execution_count": 4,
     "metadata": {},
     "output_type": "execute_result"
    }
   ],
   "source": []
  },
  {
   "cell_type": "code",
   "execution_count": null,
   "id": "18cb6b67",
   "metadata": {},
   "outputs": [],
   "source": []
  }
 ],
 "metadata": {
  "environment": {
   "name": "tf2-gpu.2-1.m46",
   "type": "gcloud",
   "uri": "gcr.io/deeplearning-platform-release/tf2-gpu.2-1:m46"
  },
  "kernelspec": {
   "display_name": "Python 3",
   "language": "python",
   "name": "python3"
  },
  "language_info": {
   "codemirror_mode": {
    "name": "ipython",
    "version": 3
   },
   "file_extension": ".py",
   "mimetype": "text/x-python",
   "name": "python",
   "nbconvert_exporter": "python",
   "pygments_lexer": "ipython3",
   "version": "3.7.6"
  }
 },
 "nbformat": 4,
 "nbformat_minor": 5
}
