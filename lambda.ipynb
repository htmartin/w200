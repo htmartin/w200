{
 "cells": [
  {
   "cell_type": "code",
   "execution_count": 4,
   "id": "e1084415",
   "metadata": {},
   "outputs": [
    {
     "data": {
      "text/plain": [
       "[529, 2025, 4761, 144, 81]"
      ]
     },
     "execution_count": 4,
     "metadata": {},
     "output_type": "execute_result"
    }
   ],
   "source": [
    "list(map(lambda x: x**2 ,(23,45,69,12,9)))"
   ]
  },
  {
   "cell_type": "code",
   "execution_count": 5,
   "id": "ff4c52ee",
   "metadata": {},
   "outputs": [
    {
     "data": {
      "text/plain": [
       "[9, 56, 63, 12]"
      ]
     },
     "execution_count": 5,
     "metadata": {},
     "output_type": "execute_result"
    }
   ],
   "source": [
    "list(map(lambda x: abs(x), (-9,56,-63,12)))"
   ]
  },
  {
   "cell_type": "code",
   "execution_count": null,
   "id": "5a6513a0",
   "metadata": {},
   "outputs": [],
   "source": []
  }
 ],
 "metadata": {
  "environment": {
   "name": "tf2-gpu.2-1.m46",
   "type": "gcloud",
   "uri": "gcr.io/deeplearning-platform-release/tf2-gpu.2-1:m46"
  },
  "kernelspec": {
   "display_name": "Python 3",
   "language": "python",
   "name": "python3"
  },
  "language_info": {
   "codemirror_mode": {
    "name": "ipython",
    "version": 3
   },
   "file_extension": ".py",
   "mimetype": "text/x-python",
   "name": "python",
   "nbconvert_exporter": "python",
   "pygments_lexer": "ipython3",
   "version": "3.7.6"
  }
 },
 "nbformat": 4,
 "nbformat_minor": 5
}
