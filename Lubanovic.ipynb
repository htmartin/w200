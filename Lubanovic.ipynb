{
 "cells": [
  {
   "cell_type": "code",
   "execution_count": 3,
   "id": "d2a6dde3",
   "metadata": {},
   "outputs": [],
   "source": [
    "class Cat:\n",
    "    '''describe a feline'''\n",
    "    def __init__(self,name):\n",
    "        self.name = name\n",
    "    \n",
    "    "
   ]
  },
  {
   "cell_type": "code",
   "execution_count": null,
   "id": "f6c35a39",
   "metadata": {},
   "outputs": [],
   "source": [
    "furball = Cat ( 'Grumpy' ) "
   ]
  },
  {
   "cell_type": "code",
   "execution_count": 10,
   "id": "9fffe6b2",
   "metadata": {},
   "outputs": [],
   "source": [
    "a_cat=Cat()\n",
    "another_cat=Cat()"
   ]
  },
  {
   "cell_type": "code",
   "execution_count": 11,
   "id": "6758c80c",
   "metadata": {},
   "outputs": [],
   "source": [
    "a_cat . age = 3 \n",
    "a_cat . name = \"Mr. Fuzzybuttons\"\n",
    "a_cat . nemesis = another_cat \n",
    "\n"
   ]
  },
  {
   "cell_type": "code",
   "execution_count": 12,
   "id": "031b8cc1",
   "metadata": {},
   "outputs": [
    {
     "data": {
      "text/plain": [
       "3"
      ]
     },
     "execution_count": 12,
     "metadata": {},
     "output_type": "execute_result"
    }
   ],
   "source": [
    "a_cat.age"
   ]
  },
  {
   "cell_type": "code",
   "execution_count": 13,
   "id": "43b30068",
   "metadata": {},
   "outputs": [],
   "source": [
    "a_cat . nemesis . name = \"Mr. Bigglesworth\" "
   ]
  },
  {
   "cell_type": "code",
   "execution_count": 14,
   "id": "54b61dc3",
   "metadata": {},
   "outputs": [
    {
     "data": {
      "text/plain": [
       "'Mr. Bigglesworth'"
      ]
     },
     "execution_count": 14,
     "metadata": {},
     "output_type": "execute_result"
    }
   ],
   "source": [
    "a_cat.nemesis.name\n"
   ]
  },
  {
   "cell_type": "code",
   "execution_count": 4,
   "id": "b5b2ae5e",
   "metadata": {},
   "outputs": [
    {
     "data": {
      "text/plain": [
       "\u001b[0;31mInit signature:\u001b[0m \u001b[0mCat\u001b[0m\u001b[0;34m(\u001b[0m\u001b[0mname\u001b[0m\u001b[0;34m)\u001b[0m\u001b[0;34m\u001b[0m\u001b[0;34m\u001b[0m\u001b[0m\n",
       "\u001b[0;31mDocstring:\u001b[0m      describe a feline\n",
       "\u001b[0;31mType:\u001b[0m           type\n",
       "\u001b[0;31mSubclasses:\u001b[0m     \n"
      ]
     },
     "metadata": {},
     "output_type": "display_data"
    }
   ],
   "source": [
    "?Cat"
   ]
  },
  {
   "cell_type": "code",
   "execution_count": null,
   "id": "4a3a58fc",
   "metadata": {},
   "outputs": [],
   "source": []
  }
 ],
 "metadata": {
  "environment": {
   "name": "tf2-gpu.2-1.m46",
   "type": "gcloud",
   "uri": "gcr.io/deeplearning-platform-release/tf2-gpu.2-1:m46"
  },
  "kernelspec": {
   "display_name": "Python 3",
   "language": "python",
   "name": "python3"
  },
  "language_info": {
   "codemirror_mode": {
    "name": "ipython",
    "version": 3
   },
   "file_extension": ".py",
   "mimetype": "text/x-python",
   "name": "python",
   "nbconvert_exporter": "python",
   "pygments_lexer": "ipython3",
   "version": "3.7.6"
  }
 },
 "nbformat": 4,
 "nbformat_minor": 5
}
