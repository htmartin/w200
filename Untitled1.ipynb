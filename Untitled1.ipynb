{
 "cells": [
  {
   "cell_type": "code",
   "execution_count": 11,
   "id": "9546656a",
   "metadata": {},
   "outputs": [
    {
     "name": "stdout",
     "output_type": "stream",
     "text": [
      "f_words = ['chat', 'morse', 'chien']\n",
      "e_words = ['cat', 'walrus', 'dog']\n"
     ]
    }
   ],
   "source": [
    "e2f = {'cat':'chat','walrus':'morse','dog':'chien'}\n",
    "e_words = list(e2f.keys())\n",
    "f_words =list(e2f.values())\n",
    "print('f_words =',f_words)\n",
    "print('e_words =', e_words)"
   ]
  },
  {
   "cell_type": "code",
   "execution_count": 24,
   "id": "bcc6ea67",
   "metadata": {},
   "outputs": [
    {
     "name": "stdout",
     "output_type": "stream",
     "text": [
      "f2e =  {'chat': 'cat', 'morse': 'walrus', 'chien': 'dog'}\n"
     ]
    }
   ],
   "source": [
    "f2e = dict(zip(f_words,e_words))\n",
    "\n",
    "# f2e = {}\n",
    "# for i in range(len(f_words)):\n",
    "#     f2e[f_words[i]]=e_words[i]\n",
    "    \n",
    "# f2e = {f_words[i]:e_words[i]for i in range(len(f_words))}    \n",
    "print('f2e = ', f2e)        "
   ]
  },
  {
   "cell_type": "code",
   "execution_count": 5,
   "id": "a994cfea",
   "metadata": {},
   "outputs": [],
   "source": [
    "# f2e = {k:v for k in f_words for v in e_words}\n",
    "# f2e"
   ]
  },
  {
   "cell_type": "code",
   "execution_count": 17,
   "id": "544f1d8a",
   "metadata": {},
   "outputs": [
    {
     "data": {
      "text/plain": [
       "{'animals': {'cats': {}, 'octopi': {}, 'emus': {}},\n",
       " 'plants': ['Henri', 'Grumpy', 'Lucy'],\n",
       " 'other': {}}"
      ]
     },
     "execution_count": 17,
     "metadata": {},
     "output_type": "execute_result"
    }
   ],
   "source": [
    "# Make a multilevel dictionary called life .\n",
    "# Use these strings for the topmost keys:\n",
    "# 'animals' , 'plants' , and 'other' .\n",
    "# Make the 'animals' key refer to another dictionary\n",
    "# with the keys 'cats' , 'octopi' , and 'emus' .\n",
    "# Make the 'cats' key refer to a list of strings with the values\n",
    "# 'Henri' , 'Grumpy' , and 'Lucy' .\n",
    "# Make all the other keys refer to empty dictionaries. \n",
    "\n",
    "life = {'animals':{'cats':{} , 'octopi':{} ,  'emus':{} } , 'plants':['Henri' , 'Grumpy' ,  'Lucy'] ,  'other':{}}\n",
    "life"
   ]
  },
  {
   "cell_type": "code",
   "execution_count": 18,
   "id": "19ead059",
   "metadata": {},
   "outputs": [
    {
     "data": {
      "text/plain": [
       "dict_keys(['animals', 'plants', 'other'])"
      ]
     },
     "execution_count": 18,
     "metadata": {},
     "output_type": "execute_result"
    }
   ],
   "source": [
    "life.keys()"
   ]
  },
  {
   "cell_type": "code",
   "execution_count": 19,
   "id": "efd87563",
   "metadata": {},
   "outputs": [
    {
     "data": {
      "text/plain": [
       "dict_keys(['cats', 'octopi', 'emus'])"
      ]
     },
     "execution_count": 19,
     "metadata": {},
     "output_type": "execute_result"
    }
   ],
   "source": [
    "life['animals'].keys()"
   ]
  },
  {
   "cell_type": "code",
   "execution_count": 21,
   "id": "17982886",
   "metadata": {},
   "outputs": [
    {
     "data": {
      "text/plain": [
       "{'optimist': 'The glass is half full',\n",
       " 'pessimist': 'The glass is half empty',\n",
       " 'troll': 'How did you get a glass?'}"
      ]
     },
     "execution_count": 21,
     "metadata": {},
     "output_type": "execute_result"
    }
   ],
   "source": [
    "# Use zip() to make a dictionary from the key tuple\n",
    "# ('optimist', 'pessimist', 'troll') and the values tuple\n",
    "# ('The glass is half full', 'The glass is half empty', 'How did you get a glass?') . \n",
    "\n",
    "\n",
    "keys = ('optimist', 'pessimist', 'troll')\n",
    "values=('The glass is half full', 'The glass is half empty', 'How did you get a glass?')\n",
    "\n",
    "dict(zip(keys,values))\n",
    "\n",
    "# Lubanovic, Bill. Introducing Python (p. 170). O'Reilly Media. Kindle Edition. "
   ]
  },
  {
   "cell_type": "code",
   "execution_count": null,
   "id": "a5fcdac2",
   "metadata": {},
   "outputs": [],
   "source": [
    "# Use zip() to make a dictionary called movies that pairs these lists:\n",
    "titles = ['Creature of Habit', 'Crewel Fate', 'Sharks On a Plane'] \n",
    "plots = ['A nun turns into a monster', 'A haunted yarn shop', 'Check your exits'] \n",
    "dict(zip(titles,p))\n",
    "\n",
    "# Lubanovic, Bill. Introducing Python (p. 170). O'Reilly Media. Kindle Edition. "
   ]
  }
 ],
 "metadata": {
  "environment": {
   "name": "tf2-gpu.2-1.m46",
   "type": "gcloud",
   "uri": "gcr.io/deeplearning-platform-release/tf2-gpu.2-1:m46"
  },
  "kernelspec": {
   "display_name": "Python 3",
   "language": "python",
   "name": "python3"
  },
  "language_info": {
   "codemirror_mode": {
    "name": "ipython",
    "version": 3
   },
   "file_extension": ".py",
   "mimetype": "text/x-python",
   "name": "python",
   "nbconvert_exporter": "python",
   "pygments_lexer": "ipython3",
   "version": "3.7.6"
  }
 },
 "nbformat": 4,
 "nbformat_minor": 5
}
