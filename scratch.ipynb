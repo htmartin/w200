{
 "cells": [
  {
   "cell_type": "code",
   "execution_count": 4,
   "id": "46cdfe20",
   "metadata": {},
   "outputs": [
    {
     "name": "stdout",
     "output_type": "stream",
     "text": [
      "just right\n"
     ]
    }
   ],
   "source": [
    "secret = 6\n",
    "guess = 6\n",
    "\n",
    "if  guess < secret:\n",
    "    print('too low') \n",
    "elif  guess > secret:\n",
    "    print('too high') \n",
    "elif  guess== secret:\n",
    "    print ('just right') "
   ]
  },
  {
   "cell_type": "code",
   "execution_count": 3,
   "id": "3be0e59e",
   "metadata": {},
   "outputs": [
    {
     "name": "stdout",
     "output_type": "stream",
     "text": [
      "It is a pumpkin!\n"
     ]
    }
   ],
   "source": [
    "\n",
    "#Write some if / else statements to print which of these matches those choices:cherry, pea, watermelon, pumpkin print ('It is a watermelon!') False\n",
    "\n",
    "small = False\n",
    "green = False \n",
    "\n",
    "if green:\n",
    "    if small:\n",
    "        print ('It is a pea!')\n",
    "    else:\n",
    "        print ('It is a watermelon!')\n",
    "else:\n",
    "    if small:\n",
    "        print ('It is a cherry!')\n",
    "    else:\n",
    "        print ('It is a pumpkin!')"
   ]
  },
  {
   "cell_type": "code",
   "execution_count": 31,
   "id": "0ba0d719",
   "metadata": {},
   "outputs": [
    {
     "data": {
      "text/plain": [
       "'zyxwvutsrqponmlkjihgfedcba'"
      ]
     },
     "execution_count": 31,
     "metadata": {},
     "output_type": "execute_result"
    }
   ],
   "source": [
    "letters = 'abcdefghijklmnopqrstuvwxyz' \n",
    "#letters[ -1 :: -1 ] \n",
    "\n",
    "letters[:: -1 ] \n"
   ]
  },
  {
   "cell_type": "code",
   "execution_count": 2,
   "id": "9e9d24f5",
   "metadata": {},
   "outputs": [
    {
     "data": {
      "text/plain": [
       "'a dog goes into a bar...'"
      ]
     },
     "execution_count": 2,
     "metadata": {},
     "output_type": "execute_result"
    }
   ],
   "source": [
    "#tasks = ['get gloves', 'get mask', 'give cat vitamins', 'call ambulance']\n",
    "#','.join(tasks) \n",
    "#len (tasks)\n",
    "\n",
    "setup = \"a duck goes into a bar...\" \n",
    "\n",
    "setup.replace('duck','dog')"
   ]
  },
  {
   "cell_type": "code",
   "execution_count": 1,
   "id": "bcbd5d25",
   "metadata": {},
   "outputs": [
    {
     "name": "stdout",
     "output_type": "stream",
     "text": [
      "1\n",
      "2\n",
      "3\n",
      "4\n",
      "5\n"
     ]
    }
   ],
   "source": [
    "count = 1\n",
    "while count <= 5:\n",
    "    print(count)\n",
    "    count +=1\n",
    "\n",
    "    "
   ]
  },
  {
   "cell_type": "code",
   "execution_count": 5,
   "id": "0b848f7f",
   "metadata": {},
   "outputs": [
    {
     "name": "stdin",
     "output_type": "stream",
     "text": [
      "String to capitalize [type q to quit]:  ujhgjhg\n"
     ]
    },
    {
     "name": "stdout",
     "output_type": "stream",
     "text": [
      "Ujhgjhg\n"
     ]
    },
    {
     "name": "stdin",
     "output_type": "stream",
     "text": [
      "String to capitalize [type q to quit]:  fgdfgd\n"
     ]
    },
    {
     "name": "stdout",
     "output_type": "stream",
     "text": [
      "Fgdfgd\n"
     ]
    },
    {
     "name": "stdin",
     "output_type": "stream",
     "text": [
      "String to capitalize [type q to quit]:  ftyfyt\n"
     ]
    },
    {
     "name": "stdout",
     "output_type": "stream",
     "text": [
      "Ftyfyt\n"
     ]
    },
    {
     "name": "stdin",
     "output_type": "stream",
     "text": [
      "String to capitalize [type q to quit]:  q\n"
     ]
    },
    {
     "name": "stdout",
     "output_type": "stream",
     "text": [
      "Q\n"
     ]
    }
   ],
   "source": [
    "while True :\n",
    "    stuff = input ( \"String to capitalize [type q to quit]: \" )\n",
    "    print (stuff.capitalize ()) \n",
    "    if stuff == \"q\" :\n",
    "        break \n",
    "        \n",
    "\n",
    "\n"
   ]
  },
  {
   "cell_type": "code",
   "execution_count": null,
   "id": "2ba71066",
   "metadata": {},
   "outputs": [],
   "source": [
    "#Use a for loop to print the values of the list [3, 2, 1, 0] . \n",
    "list = [3, 2, 1, 0]\n",
    "for n in list:\n",
    "    print(n)"
   ]
  },
  {
   "cell_type": "code",
   "execution_count": null,
   "id": "2743ceab",
   "metadata": {},
   "outputs": [],
   "source": [
    "6.2\n",
    "xAssign the value 7 to the variable guess_me ,\n",
    "xand the value 1 to the variable number .\n",
    "xWrite a while loop that compares number with guess_me .\n",
    "xPrint 'too low' if number is less than guess me .\n",
    "If number equals guess_me ,\n",
    "print 'found it!' and then exit the loop.\n",
    "If number is greater than guess_me ,\n",
    "print 'oops' and then exit the loop.\n",
    "Increment number at the end of the loop. \n",
    "\n"
   ]
  },
  {
   "cell_type": "code",
   "execution_count": 4,
   "id": "fe644ec7",
   "metadata": {},
   "outputs": [
    {
     "name": "stdout",
     "output_type": "stream",
     "text": [
      "too low\n",
      "too low\n",
      "too low\n",
      "too low\n",
      "too low\n",
      "too low\n",
      "found it!\n"
     ]
    }
   ],
   "source": [
    "guess_me = 7\n",
    "number = 1\n",
    "while True:\n",
    "    if number < guess_me:\n",
    "        print('too low') \n",
    "    elif number > guess_me:\n",
    "        print ('oops')\n",
    "    elif number == guess_me:\n",
    "        print ('found it!')\n",
    "        break\n",
    "        \n",
    "    number += 1"
   ]
  },
  {
   "cell_type": "code",
   "execution_count": 2,
   "id": "2434c581",
   "metadata": {},
   "outputs": [
    {
     "name": "stdout",
     "output_type": "stream",
     "text": [
      "found it!\n"
     ]
    }
   ],
   "source": [
    " \n",
    "    "
   ]
  },
  {
   "cell_type": "code",
   "execution_count": null,
   "id": "c7c4bc88",
   "metadata": {},
   "outputs": [],
   "source": [
    "guess_me = 7\n",
    "number = 1\n",
    "while True:\n",
    "    if number < guess_me:\n",
    "        print('too low') \n",
    "    number += 1\n"
   ]
  },
  {
   "cell_type": "code",
   "execution_count": null,
   "id": "09b5fc38",
   "metadata": {},
   "outputs": [],
   "source": [
    "elif number > guess_me:\n",
    "        print ('oops') \n",
    "        break"
   ]
  },
  {
   "cell_type": "code",
   "execution_count": null,
   "id": "fbb76309",
   "metadata": {},
   "outputs": [],
   "source": [
    "while True:\n",
    "    print('too low') "
   ]
  },
  {
   "cell_type": "code",
   "execution_count": null,
   "id": "7cc9ee36",
   "metadata": {},
   "outputs": [],
   "source": []
  }
 ],
 "metadata": {
  "environment": {
   "name": "tf2-gpu.2-1.m46",
   "type": "gcloud",
   "uri": "gcr.io/deeplearning-platform-release/tf2-gpu.2-1:m46"
  },
  "kernelspec": {
   "display_name": "Python 3",
   "language": "python",
   "name": "python3"
  },
  "language_info": {
   "codemirror_mode": {
    "name": "ipython",
    "version": 3
   },
   "file_extension": ".py",
   "mimetype": "text/x-python",
   "name": "python",
   "nbconvert_exporter": "python",
   "pygments_lexer": "ipython3",
   "version": "3.7.6"
  }
 },
 "nbformat": 4,
 "nbformat_minor": 5
}
