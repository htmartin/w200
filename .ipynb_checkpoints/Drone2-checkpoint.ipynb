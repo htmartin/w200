{
 "cells": [
  {
   "cell_type": "code",
   "execution_count": 1,
   "id": "d84354e8",
   "metadata": {},
   "outputs": [],
   "source": [
    "class Drone:\n",
    "    '''rep of a drone aircraft'''\n",
    "    power_system ='battery'\n",
    "    def fly(self):\n",
    "        return 'The drone is flying.'"
   ]
  },
  {
   "cell_type": "code",
   "execution_count": null,
   "id": "59358f07",
   "metadata": {},
   "outputs": [],
   "source": []
  }
 ],
 "metadata": {
  "environment": {
   "name": "tf2-gpu.2-1.m46",
   "type": "gcloud",
   "uri": "gcr.io/deeplearning-platform-release/tf2-gpu.2-1:m46"
  },
  "kernelspec": {
   "display_name": "Python 3",
   "language": "python",
   "name": "python3"
  },
  "language_info": {
   "codemirror_mode": {
    "name": "ipython",
    "version": 3
   },
   "file_extension": ".py",
   "mimetype": "text/x-python",
   "name": "python",
   "nbconvert_exporter": "python",
   "pygments_lexer": "ipython3",
   "version": "3.7.6"
  }
 },
 "nbformat": 4,
 "nbformat_minor": 5
}
