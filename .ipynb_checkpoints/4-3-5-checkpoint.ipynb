{
 "cells": [
  {
   "cell_type": "code",
   "execution_count": null,
   "id": "b47a6063",
   "metadata": {},
   "outputs": [],
   "source": [
    "# use a single comprehension \n",
    "# to make a list of all strings that can be formed by replacing \n",
    "# exactly one vowel in the word \n",
    "# with a different vowel (a vowel is a,e,i,o,u).\n",
    "\n",
    "# Required output:\n",
    "\n",
    "# ['Baoted', 'Beoted', 'Bioted', 'Buoted', \n",
    "#  'Boated', 'Boeted', 'Boited', 'Bouted', \n",
    "#  'Bootad', 'Bootid', 'Bootod', 'Bootud']"
   ]
  },
  {
   "cell_type": "code",
   "execution_count": 6,
   "id": "405cf294",
   "metadata": {},
   "outputs": [
    {
     "name": "stdout",
     "output_type": "stream",
     "text": [
      "['Baoted', 'Beoted', 'Bioted', 'Booted', 'Buoted', 'Boated', 'Boeted', 'Boited', 'Booted', 'Bouted', 'Bootad', 'Booted', 'Bootid', 'Bootod', 'Bootud']\n"
     ]
    }
   ],
   "source": [
    "word = \"Booted\"\n",
    "vowels = 'aeiou'\n",
    "parts=[]\n",
    "for i in range(0,len(word)): #0, 1, 2, 3, 4, 5\n",
    "    if word[i] in vowels:\n",
    "        for v in range(0,len(vowels)):\n",
    "            if v !=word[i]:\n",
    "                parts.append(word[:i]+vowels[v]+word[i+1:])\n",
    "print(parts)\n",
    "\n",
    "# b = loop over vowels"
   ]
  },
  {
   "cell_type": "code",
   "execution_count": 7,
   "id": "b8e984c6",
   "metadata": {},
   "outputs": [
    {
     "name": "stdout",
     "output_type": "stream",
     "text": [
      "['Baoted', 'Beoted', 'Bioted', 'Booted', 'Buoted', 'Boated', 'Boeted', 'Boited', 'Booted', 'Bouted', 'Bootad', 'Booted', 'Bootid', 'Bootod', 'Bootud']\n"
     ]
    }
   ],
   "source": [
    "parts=[word[:i]+vowels[v]+word[i+1:] for i in range(0,len(word)) if word[i] in vowels for v in range(0,len(vowels)) if v !=word[i] ]\n",
    "\n",
    "print(parts)\n"
   ]
  },
  {
   "cell_type": "code",
   "execution_count": null,
   "id": "b5ac0eea",
   "metadata": {},
   "outputs": [],
   "source": []
  }
 ],
 "metadata": {
  "environment": {
   "name": "tf2-gpu.2-1.m46",
   "type": "gcloud",
   "uri": "gcr.io/deeplearning-platform-release/tf2-gpu.2-1:m46"
  },
  "kernelspec": {
   "display_name": "Python 3",
   "language": "python",
   "name": "python3"
  },
  "language_info": {
   "codemirror_mode": {
    "name": "ipython",
    "version": 3
   },
   "file_extension": ".py",
   "mimetype": "text/x-python",
   "name": "python",
   "nbconvert_exporter": "python",
   "pygments_lexer": "ipython3",
   "version": "3.7.6"
  }
 },
 "nbformat": 4,
 "nbformat_minor": 5
}
