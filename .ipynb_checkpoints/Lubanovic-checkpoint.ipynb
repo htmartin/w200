{
 "cells": [
  {
   "cell_type": "code",
   "execution_count": 9,
   "id": "94b0cd3b",
   "metadata": {},
   "outputs": [],
   "source": [
    "class Cat:\n",
    "    def __init__(self,name):\n",
    "        self.name = name\n",
    "    \n",
    "    "
   ]
  },
  {
   "cell_type": "code",
   "execution_count": null,
   "id": "ee01e2e1",
   "metadata": {},
   "outputs": [],
   "source": [
    "furball = Cat ( 'Grumpy' ) "
   ]
  },
  {
   "cell_type": "code",
   "execution_count": 10,
   "id": "d1e1c02f",
   "metadata": {},
   "outputs": [],
   "source": [
    "a_cat=Cat()\n",
    "another_cat=Cat()"
   ]
  },
  {
   "cell_type": "code",
   "execution_count": 11,
   "id": "91f78d66",
   "metadata": {},
   "outputs": [],
   "source": [
    "a_cat . age = 3 \n",
    "a_cat . name = \"Mr. Fuzzybuttons\"\n",
    "a_cat . nemesis = another_cat \n",
    "\n"
   ]
  },
  {
   "cell_type": "code",
   "execution_count": 12,
   "id": "6a991e66",
   "metadata": {},
   "outputs": [
    {
     "data": {
      "text/plain": [
       "3"
      ]
     },
     "execution_count": 12,
     "metadata": {},
     "output_type": "execute_result"
    }
   ],
   "source": [
    "a_cat.age"
   ]
  },
  {
   "cell_type": "code",
   "execution_count": 13,
   "id": "ef9ce1a8",
   "metadata": {},
   "outputs": [],
   "source": [
    "a_cat . nemesis . name = \"Mr. Bigglesworth\" "
   ]
  },
  {
   "cell_type": "code",
   "execution_count": 14,
   "id": "4d76f3e1",
   "metadata": {},
   "outputs": [
    {
     "data": {
      "text/plain": [
       "'Mr. Bigglesworth'"
      ]
     },
     "execution_count": 14,
     "metadata": {},
     "output_type": "execute_result"
    }
   ],
   "source": [
    "a_cat.nemesis.name\n"
   ]
  },
  {
   "cell_type": "code",
   "execution_count": null,
   "id": "b869f53b",
   "metadata": {},
   "outputs": [],
   "source": []
  }
 ],
 "metadata": {
  "environment": {
   "name": "tf2-gpu.2-1.m46",
   "type": "gcloud",
   "uri": "gcr.io/deeplearning-platform-release/tf2-gpu.2-1:m46"
  },
  "kernelspec": {
   "display_name": "Python 3",
   "language": "python",
   "name": "python3"
  },
  "language_info": {
   "codemirror_mode": {
    "name": "ipython",
    "version": 3
   },
   "file_extension": ".py",
   "mimetype": "text/x-python",
   "name": "python",
   "nbconvert_exporter": "python",
   "pygments_lexer": "ipython3",
   "version": "3.7.6"
  }
 },
 "nbformat": 4,
 "nbformat_minor": 5
}
