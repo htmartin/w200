{
 "cells": [
  {
   "cell_type": "code",
   "execution_count": 3,
   "id": "c7a04f9e",
   "metadata": {},
   "outputs": [],
   "source": [
    "import unicodedata"
   ]
  },
  {
   "cell_type": "code",
   "execution_count": 4,
   "id": "492567de",
   "metadata": {},
   "outputs": [],
   "source": [
    "def unicode_test ( value ):\n",
    "    import unicodedata\n",
    "    name = unicodedata . name ( value ) \n",
    "    value2 = unicodedata . lookup ( name )\n",
    "    print ( 'value=\" %s \", name=\" %s \", value2=\" %s \"' % ( value , name , value2 )) \n",
    "\n"
   ]
  },
  {
   "cell_type": "code",
   "execution_count": 5,
   "id": "f605fab2",
   "metadata": {},
   "outputs": [
    {
     "name": "stdout",
     "output_type": "stream",
     "text": [
      "value=\" A \", name=\" LATIN CAPITAL LETTER A \", value2=\" A \"\n"
     ]
    }
   ],
   "source": [
    "unicode_test('A')\n",
    "#value=\" A \", name=\" LATIN CAPITAL LETTER A \", value2=\" A \"\n",
    "\n",
    "\n"
   ]
  },
  {
   "cell_type": "code",
   "execution_count": 6,
   "id": "d3035451",
   "metadata": {},
   "outputs": [
    {
     "data": {
      "text/plain": [
       "'é'"
      ]
     },
     "execution_count": 6,
     "metadata": {},
     "output_type": "execute_result"
    }
   ],
   "source": [
    "unicodedata.lookup ('LATIN SMALL LETTER E WITH ACUTE') "
   ]
  },
  {
   "cell_type": "code",
   "execution_count": 10,
   "id": "fab57c6f",
   "metadata": {},
   "outputs": [
    {
     "data": {
      "text/plain": [
       "'LATIN SMALL LETTER E WITH ACUTE'"
      ]
     },
     "execution_count": 10,
     "metadata": {},
     "output_type": "execute_result"
    }
   ],
   "source": [
    "unicodedata . name ('\\u00e9')"
   ]
  },
  {
   "cell_type": "code",
   "execution_count": 11,
   "id": "1800d0a6",
   "metadata": {},
   "outputs": [
    {
     "data": {
      "text/plain": [
       "' ☃ '"
      ]
     },
     "execution_count": 11,
     "metadata": {},
     "output_type": "execute_result"
    }
   ],
   "source": [
    "snowman = ' \\u2603 ' \n",
    "\n",
    "snowman"
   ]
  },
  {
   "cell_type": "code",
   "execution_count": 13,
   "id": "9a2f7068",
   "metadata": {},
   "outputs": [
    {
     "data": {
      "text/plain": [
       "'☃'"
      ]
     },
     "execution_count": 13,
     "metadata": {},
     "output_type": "execute_result"
    }
   ],
   "source": [
    "'\\u2603'"
   ]
  },
  {
   "cell_type": "code",
   "execution_count": null,
   "id": "12b8e0a7",
   "metadata": {},
   "outputs": [],
   "source": []
  }
 ],
 "metadata": {
  "environment": {
   "name": "tf2-gpu.2-1.m46",
   "type": "gcloud",
   "uri": "gcr.io/deeplearning-platform-release/tf2-gpu.2-1:m46"
  },
  "kernelspec": {
   "display_name": "Python 3",
   "language": "python",
   "name": "python3"
  },
  "language_info": {
   "codemirror_mode": {
    "name": "ipython",
    "version": 3
   },
   "file_extension": ".py",
   "mimetype": "text/x-python",
   "name": "python",
   "nbconvert_exporter": "python",
   "pygments_lexer": "ipython3",
   "version": "3.7.6"
  }
 },
 "nbformat": 4,
 "nbformat_minor": 5
}
