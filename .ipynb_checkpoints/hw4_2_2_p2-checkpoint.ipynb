{
 "cells": [
  {
   "cell_type": "code",
   "execution_count": null,
   "id": "b45d1c12",
   "metadata": {},
   "outputs": [],
   "source": [
    "# S2:\n",
    "#Increase the guess by the step size as long as doing so \n",
    "#would not cause the guess^2 to exceed x. \n",
    "while guess**2 < x:\n",
    "    guess += step_size\n",
    "    num_guesses+=1\n",
    "    if guess**2 > x:\n",
    "        break\n",
    "    print('x =',x, 'guess^2 =', guess**2)\n",
    "    if step_size >= epsilon:\n",
    "        step_size =step_size/10\n",
    "        print('step_size =',step_size, 'guess =', guess, 'num_guesses =', num_guesses)"
   ]
  },
  {
   "cell_type": "code",
   "execution_count": null,
   "id": "1585bc84",
   "metadata": {},
   "outputs": [],
   "source": [
    "# Try using your code to find the square \n",
    "# root of 10 to an epsilon of 10 decimal places. "
   ]
  },
  {
   "cell_type": "code",
   "execution_count": null,
   "id": "ce921600",
   "metadata": {},
   "outputs": [],
   "source": [
    "x=10\n",
    "epsilon = .0000000001\n",
    "guess =\n",
    "while guess**2 < x:\n",
    "    guess += step_size\n",
    "    num_guesses+=1\n",
    "    if guess**2 > x:\n",
    "        break\n",
    "    print('x =',x, 'guess^2 =', guess**2)\n",
    "    if step_size >= epsilon:\n",
    "        step_size =step_size/10\n",
    "        print('step_size =',step_size, 'guess =', guess, 'num_guesses =', num_guesses)"
   ]
  }
 ],
 "metadata": {
  "environment": {
   "name": "tf2-gpu.2-1.m46",
   "type": "gcloud",
   "uri": "gcr.io/deeplearning-platform-release/tf2-gpu.2-1:m46"
  },
  "kernelspec": {
   "display_name": "Python 3",
   "language": "python",
   "name": "python3"
  },
  "language_info": {
   "codemirror_mode": {
    "name": "ipython",
    "version": 3
   },
   "file_extension": ".py",
   "mimetype": "text/x-python",
   "name": "python",
   "nbconvert_exporter": "python",
   "pygments_lexer": "ipython3",
   "version": "3.7.6"
  }
 },
 "nbformat": 4,
 "nbformat_minor": 5
}
