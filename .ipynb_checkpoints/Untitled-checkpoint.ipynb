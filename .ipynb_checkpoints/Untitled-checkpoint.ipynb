{
 "cells": [
  {
   "cell_type": "code",
   "execution_count": 2,
   "id": "ec5a39a2",
   "metadata": {},
   "outputs": [
    {
     "data": {
      "text/plain": [
       "{'h': 1, 'o': 3, 'w': 1, 'd': 3, 'y': 2}"
      ]
     },
     "execution_count": 2,
     "metadata": {},
     "output_type": "execute_result"
    }
   ],
   "source": [
    "word = 'howdydoody'\n",
    "letter_counts = {l:word.count(l) for l in word}\n",
    "letter_counts"
   ]
  },
  {
   "cell_type": "code",
   "execution_count": 3,
   "id": "97cd8c64",
   "metadata": {},
   "outputs": [
    {
     "data": {
      "text/plain": [
       "{'w': 1, 'd': 3, 'h': 1, 'y': 2, 'o': 3}"
      ]
     },
     "execution_count": 3,
     "metadata": {},
     "output_type": "execute_result"
    }
   ],
   "source": [
    "word = 'howdydoody'\n",
    "letter_counts = {l:word.count(l) for l in set(word)}\n",
    "letter_counts"
   ]
  },
  {
   "cell_type": "code",
   "execution_count": 10,
   "id": "0e10f3ef",
   "metadata": {},
   "outputs": [
    {
     "name": "stdout",
     "output_type": "stream",
     "text": [
      "{'h': 1}\n",
      "{'h': 1, 'o': 3}\n",
      "{'h': 1, 'o': 3, 'w': 1}\n",
      "{'h': 1, 'o': 3, 'w': 1, 'd': 3}\n",
      "{'h': 1, 'o': 3, 'w': 1, 'd': 3, 'y': 2}\n",
      "{'h': 1, 'o': 3, 'w': 1, 'd': 3, 'y': 2}\n",
      "{'h': 1, 'o': 3, 'w': 1, 'd': 3, 'y': 2}\n",
      "{'h': 1, 'o': 3, 'w': 1, 'd': 3, 'y': 2}\n",
      "{'h': 1, 'o': 3, 'w': 1, 'd': 3, 'y': 2}\n",
      "{'h': 1, 'o': 3, 'w': 1, 'd': 3, 'y': 2}\n"
     ]
    }
   ],
   "source": [
    "d ={}\n",
    "for l in word:\n",
    "    q = {l:word.count(l)}\n",
    "    d.update(q)\n",
    "    print(d)\n",
    "    "
   ]
  },
  {
   "cell_type": "code",
   "execution_count": 12,
   "id": "45f0fa38",
   "metadata": {},
   "outputs": [
    {
     "name": "stdout",
     "output_type": "stream",
     "text": [
      "howdydoody\n",
      "{'w', 'd', 'h', 'y', 'o'}\n"
     ]
    }
   ],
   "source": [
    "print(word)\n",
    "print(set(word))"
   ]
  },
  {
   "cell_type": "code",
   "execution_count": 16,
   "id": "d1fdc279",
   "metadata": {},
   "outputs": [
    {
     "data": {
      "text/plain": [
       "{'w': 1, 'd': 3, 'h': 1, 'y': 2, 'o': 3, 'b': 1, 'r': 6}"
      ]
     },
     "execution_count": 16,
     "metadata": {},
     "output_type": "execute_result"
    }
   ],
   "source": [
    "#data['a'] = 1  # Updates if 'a' exists, else adds 'a'\n",
    "d['b'] = 1\n",
    "d['r']= 6\n",
    "d"
   ]
  },
  {
   "cell_type": "code",
   "execution_count": 18,
   "id": "30a27fee",
   "metadata": {},
   "outputs": [
    {
     "data": {
      "text/plain": [
       "{0: 3, 1: 3, 2: 3, 3: 3}"
      ]
     },
     "execution_count": 18,
     "metadata": {},
     "output_type": "execute_result"
    }
   ],
   "source": [
    "#{(k, v): k+v for k in range(4) for v in range(4)}\n",
    "r = {k:v for k in range(4) for v in range(4)}\n",
    "r\n"
   ]
  },
  {
   "cell_type": "code",
   "execution_count": 19,
   "id": "6bf3017c",
   "metadata": {},
   "outputs": [
    {
     "data": {
      "text/plain": [
       "{(0, 0): 0,\n",
       " (0, 1): 1,\n",
       " (0, 2): 2,\n",
       " (0, 3): 3,\n",
       " (1, 0): 1,\n",
       " (1, 1): 2,\n",
       " (1, 2): 3,\n",
       " (1, 3): 4,\n",
       " (2, 0): 2,\n",
       " (2, 1): 3,\n",
       " (2, 2): 4,\n",
       " (2, 3): 5,\n",
       " (3, 0): 3,\n",
       " (3, 1): 4,\n",
       " (3, 2): 5,\n",
       " (3, 3): 6}"
      ]
     },
     "execution_count": 19,
     "metadata": {},
     "output_type": "execute_result"
    }
   ],
   "source": [
    "n ={(k, v): k+v for k in range(4) for v in range(4)}\n",
    "n\n",
    "\n"
   ]
  },
  {
   "cell_type": "code",
   "execution_count": 20,
   "id": "b00d2bff",
   "metadata": {},
   "outputs": [
    {
     "name": "stdout",
     "output_type": "stream",
     "text": [
      "{0: 'Hi', 1: 'I', 2: 'am', 3: 'John'}\n"
     ]
    }
   ],
   "source": [
    "dicts = {}\n",
    "keys = range(4)\n",
    "values = [\"Hi\", \"I\", \"am\", \"John\"]\n",
    "for i in keys:\n",
    "        dicts[i] = values[i]\n",
    "print(dicts)"
   ]
  },
  {
   "cell_type": "code",
   "execution_count": 24,
   "id": "6948b4d6",
   "metadata": {},
   "outputs": [
    {
     "data": {
      "text/plain": [
       "{0: 'Hi', 1: 'I', 2: 'am', 3: 'John'}"
      ]
     },
     "execution_count": 24,
     "metadata": {},
     "output_type": "execute_result"
    }
   ],
   "source": [
    "c = {k:values[k] for k in keys}\n",
    "c"
   ]
  },
  {
   "cell_type": "code",
   "execution_count": 25,
   "id": "ad634b2b",
   "metadata": {},
   "outputs": [],
   "source": [
    "n = list(word)\n",
    "r = range(7)\n",
    "values = [\"Hi\", \"I\", \"am\", \"John\", 'ooga','booga']"
   ]
  },
  {
   "cell_type": "code",
   "execution_count": 26,
   "id": "7df5ba1a",
   "metadata": {},
   "outputs": [
    {
     "data": {
      "text/plain": [
       "['h', 'o', 'w', 'd', 'y', 'd', 'o', 'o', 'd', 'y']"
      ]
     },
     "execution_count": 26,
     "metadata": {},
     "output_type": "execute_result"
    }
   ],
   "source": []
  },
  {
   "cell_type": "code",
   "execution_count": null,
   "id": "ed4d3615",
   "metadata": {},
   "outputs": [],
   "source": []
  }
 ],
 "metadata": {
  "environment": {
   "name": "tf2-gpu.2-1.m46",
   "type": "gcloud",
   "uri": "gcr.io/deeplearning-platform-release/tf2-gpu.2-1:m46"
  },
  "kernelspec": {
   "display_name": "Python 3",
   "language": "python",
   "name": "python3"
  },
  "language_info": {
   "codemirror_mode": {
    "name": "ipython",
    "version": 3
   },
   "file_extension": ".py",
   "mimetype": "text/x-python",
   "name": "python",
   "nbconvert_exporter": "python",
   "pygments_lexer": "ipython3",
   "version": "3.7.6"
  }
 },
 "nbformat": 4,
 "nbformat_minor": 5
}
