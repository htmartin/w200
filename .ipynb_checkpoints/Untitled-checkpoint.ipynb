{
 "cells": [
  {
   "cell_type": "code",
   "execution_count": 12,
   "id": "60982f51",
   "metadata": {},
   "outputs": [
    {
     "data": {
      "text/plain": [
       "{'cat': 'chat', 'walrus': 'morse', 'dog': 'chien'}"
      ]
     },
     "execution_count": 12,
     "metadata": {},
     "output_type": "execute_result"
    }
   ],
   "source": [
    "e2f = {'cat':'chat','walrus':'morse','dog':'chien'}\n",
    "\n",
    "e2f"
   ]
  },
  {
   "cell_type": "code",
   "execution_count": 13,
   "id": "943aad2f",
   "metadata": {},
   "outputs": [
    {
     "data": {
      "text/plain": [
       "'morse'"
      ]
     },
     "execution_count": 13,
     "metadata": {},
     "output_type": "execute_result"
    }
   ],
   "source": [
    "e2f['walrus']"
   ]
  },
  {
   "cell_type": "code",
   "execution_count": 5,
   "id": "c9219e0f",
   "metadata": {},
   "outputs": [
    {
     "ename": "SyntaxError",
     "evalue": "invalid syntax (<ipython-input-5-10d6b6ece984>, line 1)",
     "output_type": "error",
     "traceback": [
      "\u001b[0;36m  File \u001b[0;32m\"<ipython-input-5-10d6b6ece984>\"\u001b[0;36m, line \u001b[0;32m1\u001b[0m\n\u001b[0;31m    f2e ={(k:v) for k,v in e2f.items()}\u001b[0m\n\u001b[0m            ^\u001b[0m\n\u001b[0;31mSyntaxError\u001b[0m\u001b[0;31m:\u001b[0m invalid syntax\n"
     ]
    }
   ],
   "source": []
  },
  {
   "cell_type": "code",
   "execution_count": 29,
   "id": "8c75b7ea",
   "metadata": {},
   "outputs": [
    {
     "ename": "SyntaxError",
     "evalue": "unexpected EOF while parsing (<ipython-input-29-114171e5ee25>, line 7)",
     "output_type": "error",
     "traceback": [
      "\u001b[0;36m  File \u001b[0;32m\"<ipython-input-29-114171e5ee25>\"\u001b[0;36m, line \u001b[0;32m7\u001b[0m\n\u001b[0;31m    # e_items\u001b[0m\n\u001b[0m             ^\u001b[0m\n\u001b[0;31mSyntaxError\u001b[0m\u001b[0;31m:\u001b[0m unexpected EOF while parsing\n"
     ]
    }
   ],
   "source": [
    "e2f = {'cat':'chat','walrus':'morse','dog':'chien'}\n",
    "print(list(e2f.values())\n",
    "\n"
   ]
  },
  {
   "cell_type": "code",
   "execution_count": null,
   "id": "dddc3315",
   "metadata": {},
   "outputs": [],
   "source": [
    "# e_items =[]\n",
    "# for i in e2f:\n",
    "#     e_items.append(i)\n",
    "# e_items"
   ]
  },
  {
   "cell_type": "code",
   "execution_count": 23,
   "id": "9da5dc76",
   "metadata": {},
   "outputs": [
    {
     "data": {
      "text/plain": [
       "['chat', 'morse', 'chien']"
      ]
     },
     "execution_count": 23,
     "metadata": {},
     "output_type": "execute_result"
    }
   ],
   "source": [
    "f_items =[]\n",
    "for i in e2f.values():\n",
    "    f_items.append(i)\n",
    "f_items"
   ]
  },
  {
   "cell_type": "code",
   "execution_count": 24,
   "id": "92c3c609",
   "metadata": {},
   "outputs": [
    {
     "data": {
      "text/plain": [
       "{'chat': 'dog', 'morse': 'dog', 'chien': 'dog'}"
      ]
     },
     "execution_count": 24,
     "metadata": {},
     "output_type": "execute_result"
    }
   ],
   "source": [
    "f2e = {k:v for k in f_items for v in e_items}\n",
    "f2e"
   ]
  },
  {
   "cell_type": "code",
   "execution_count": null,
   "id": "88c8d386",
   "metadata": {},
   "outputs": [],
   "source": [
    "f2e[]"
   ]
  }
 ],
 "metadata": {
  "environment": {
   "name": "tf2-gpu.2-1.m46",
   "type": "gcloud",
   "uri": "gcr.io/deeplearning-platform-release/tf2-gpu.2-1:m46"
  },
  "kernelspec": {
   "display_name": "Python 3",
   "language": "python",
   "name": "python3"
  },
  "language_info": {
   "codemirror_mode": {
    "name": "ipython",
    "version": 3
   },
   "file_extension": ".py",
   "mimetype": "text/x-python",
   "name": "python",
   "nbconvert_exporter": "python",
   "pygments_lexer": "ipython3",
   "version": "3.7.6"
  }
 },
 "nbformat": 4,
 "nbformat_minor": 5
}
