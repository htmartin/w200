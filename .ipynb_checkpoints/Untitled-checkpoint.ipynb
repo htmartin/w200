{
 "cells": [],
 "metadata": {
  "environment": {
   "name": "tf2-gpu.2-1.m46",
   "type": "gcloud",
   "uri": "gcr.io/deeplearning-platform-release/tf2-gpu.2-1:m46"
  }
 },
 "nbformat": 4,
 "nbformat_minor": 5
}
