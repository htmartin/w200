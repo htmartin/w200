{
 "cells": [
  {
   "cell_type": "code",
   "execution_count": null,
   "id": "d5e93cb6",
   "metadata": {},
   "outputs": [],
   "source": [
    "# # You place a pawn at the top left corner of an n-by-n chess board, labeled (0,0). \n",
    "# # For each move, you have a choice: move the pawn down a single space, \n",
    "# #     or move the pawn down one space and right one space. \n",
    "# #     That is, if the pawn is at position (i,j), you can move the pawn to (i+1,j) or (i+1, j+1).\n",
    "\n",
    "# # Ask the user for the size of a chessboard, n (integer). \n",
    "# Find the number of different paths starting from (0,0) that the pawn could take to reach each position on the chess board. \n",
    "# For example, there are two different paths the pawn can take to reach (2,1). \n",
    "# Look at the diagrams below to convince yourself of this. \n",
    "# You can see the four paths that you can take by move 2.\n",
    "\n",
    "# #   Start -> Move 1 -> Move 2\n",
    "\n",
    "# #   (0,0) ->  (1,0) -> (2,1)\n",
    "\n",
    "# #   (0,0) ->  (1,0) -> (2,0)\n",
    "\n",
    "# #   (0,0) ->  (1,1) -> (2,1)\n",
    "\n",
    "# #   (0,0) ->  (1,1) -> (2,2)\n",
    "# # Print the board with the number of ways to reach each square labeled as shown below.\n",
    "\n",
    "# # For example:\n",
    "\n",
    "# # Enter a board size: 4\n",
    "\n",
    "# # 1 0 0 0\n",
    "# # 1 1 0 0\n",
    "# # 1 2 1 0\n",
    "# # 1 3 3 1\n",
    "# # Please create pseudocode for this problem in the first cell then implement your solution in the second cell.\n",
    "# # If you need help creating pseudocode, read this article: https://www.geeksforgeeks.org/how-to-write-a-pseudo-code/ (code is java but principles are the same)"
   ]
  },
  {
   "cell_type": "code",
   "execution_count": null,
   "id": "5e575a75",
   "metadata": {},
   "outputs": [],
   "source": [
    "n = int(input(\"Enter a board size: \"))\n",
    "\n",
    "board = []\n",
    "\n",
    "for i in range(n):\n",
    "    board.append([])\n",
    "    for j in range(n):\n",
    "        board[i].append(0)\n",
    "\n",
    "board[0][0] = 1\n",
    "\n",
    "for i in range(n-1):\n",
    "    for j in range(n-1):\n",
    "        board[i+1][j] = board[i][j] + board[i+1][j]\n",
    "        board[i+1][j+1] = board[i][j] + board[i+1][j+1]\n",
    "        \n",
    "for i in range(n):\n",
    "    print(*board[i])"
   ]
  }
 ],
 "metadata": {
  "environment": {
   "name": "tf2-gpu.2-1.m46",
   "type": "gcloud",
   "uri": "gcr.io/deeplearning-platform-release/tf2-gpu.2-1:m46"
  },
  "kernelspec": {
   "display_name": "Python 3",
   "language": "python",
   "name": "python3"
  },
  "language_info": {
   "codemirror_mode": {
    "name": "ipython",
    "version": 3
   },
   "file_extension": ".py",
   "mimetype": "text/x-python",
   "name": "python",
   "nbconvert_exporter": "python",
   "pygments_lexer": "ipython3",
   "version": "3.7.6"
  }
 },
 "nbformat": 4,
 "nbformat_minor": 5
}
