{
 "cells": [
  {
   "cell_type": "code",
   "execution_count": null,
   "id": "6205d9ad",
   "metadata": {},
   "outputs": [],
   "source": [
    "#index = [1, 2, 3, 4, 5, 6, 7, 8, 9, 10, 11, 12, 13, 14, 15, 16, 17, 18, 19, 20, 21, 22, 23, 24, 25, 26]\n",
    "\n",
    "\n",
    "# Write a Python program to create a Caesar encryption. \n",
    "\n",
    "#  each letter in the plaintext \n",
    "# is replaced by a letter some fixed number of positions down the alphabet. \n",
    "# For example, with a left shift of 3, D would be replaced by A, E would become B, and so on. \n",
    "\n"
   ]
  },
  {
   "cell_type": "code",
   "execution_count": 14,
   "id": "2ea2bc71",
   "metadata": {},
   "outputs": [
    {
     "name": "stdout",
     "output_type": "stream",
     "text": [
      "['f', 'o', 'r', ' ', 'e', 'x', 'a', 'm', 'p', 'l', 'e', ',', ' ', 'w', 'i', 't', 'h', ' ', 'a', ' ', 'l', 'e', 'f', 't', ' ', 's', 'h', 'i', 'f', 't', ' ', 'o', 'f', ' ', '3', ',', ' ', 'd', ' ', 'w', 'o', 'u', 'l', 'd', ' ', 'b', 'e', ' ', 'r', 'e', 'p', 'l', 'a', 'c', 'e', 'd', ' ', 'b', 'y', ' ', 'a', ',', ' ', 'e', ' ', 'w', 'o', 'u', 'l', 'd', ' ', 'b', 'e', 'c', 'o', 'm', 'e', ' ', 'b', ',', ' ', 'a', 'n', 'd', ' ', 's', 'o', ' ', 'o', 'n']\n"
     ]
    }
   ],
   "source": [
    "text = 'For example, with a left shift of 3, D would be replaced by A, E would become B, and so on'\n",
    "text = list(text.lower())\n",
    "#text = list(text) #text.lower()\n",
    "print(text)"
   ]
  },
  {
   "cell_type": "code",
   "execution_count": 15,
   "id": "b2c4d3d7",
   "metadata": {},
   "outputs": [],
   "source": [
    "alpha =['a','b','c','d', 'e', 'f', 'g','h','i','j','k','l','m','n', 'o', 'p', 'q', 'r', 's', 't', 'u', 'v', 'w', 'x', 'y', 'z']\n",
    "#replace alpha[n] --> alpha[n+2] "
   ]
  },
  {
   "cell_type": "code",
   "execution_count": 25,
   "id": "59d075bb",
   "metadata": {},
   "outputs": [
    {
     "name": "stdout",
     "output_type": "stream",
     "text": [
      "0\n"
     ]
    }
   ],
   "source": [
    "print(alpha.index('a'))\n",
    "t = 'for'"
   ]
  },
  {
   "cell_type": "code",
   "execution_count": 24,
   "id": "b2de7b75",
   "metadata": {},
   "outputs": [
    {
     "name": "stdout",
     "output_type": "stream",
     "text": [
      "5\n",
      "14\n",
      "17\n"
     ]
    }
   ],
   "source": [
    "for i in t:\n",
    "    print(alpha.index(i))\n"
   ]
  },
  {
   "cell_type": "code",
   "execution_count": null,
   "id": "88e19900",
   "metadata": {},
   "outputs": [],
   "source": []
  }
 ],
 "metadata": {
  "environment": {
   "name": "tf2-gpu.2-1.m46",
   "type": "gcloud",
   "uri": "gcr.io/deeplearning-platform-release/tf2-gpu.2-1:m46"
  },
  "kernelspec": {
   "display_name": "Python 3",
   "language": "python",
   "name": "python3"
  },
  "language_info": {
   "codemirror_mode": {
    "name": "ipython",
    "version": 3
   },
   "file_extension": ".py",
   "mimetype": "text/x-python",
   "name": "python",
   "nbconvert_exporter": "python",
   "pygments_lexer": "ipython3",
   "version": "3.7.6"
  }
 },
 "nbformat": 4,
 "nbformat_minor": 5
}
