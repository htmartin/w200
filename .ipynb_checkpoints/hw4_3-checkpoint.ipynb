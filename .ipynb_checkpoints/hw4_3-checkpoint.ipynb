{
 "cells": [
  {
   "cell_type": "code",
   "execution_count": null,
   "id": "17cf88d8",
   "metadata": {},
   "outputs": [],
   "source": [
    "# ingle comprehension to make a list of the square \n",
    "# numbers below 100 that give a remainder of 1 when divided by 3."
   ]
  },
  {
   "cell_type": "code",
   "execution_count": 1,
   "id": "4b52931f",
   "metadata": {},
   "outputs": [],
   "source": [
    "a =[i**2 for i in range(1,101) if i % 3==1]"
   ]
  },
  {
   "cell_type": "code",
   "execution_count": null,
   "id": "1aef5de4",
   "metadata": {},
   "outputs": [],
   "source": [
    "# Use a single comprehension to \n",
    "# make a list of the first letter of each word in the snippet."
   ]
  },
  {
   "cell_type": "code",
   "execution_count": 6,
   "id": "93f180af",
   "metadata": {},
   "outputs": [],
   "source": [
    "text = \"I live my life a quarter mile at a time. \\\n",
    "Nothing else matters: not the mortgage, not the store, \\\n",
    "not my team and all their bullshit. \\\n",
    "For those ten seconds or less, I’m free.\"\n",
    "first = []\n",
    "for i in text:\n",
    "    if i != ' ':\n",
    "        first.append(i[0])\n",
    "#print(first)"
   ]
  },
  {
   "cell_type": "code",
   "execution_count": 7,
   "id": "a6df6413",
   "metadata": {},
   "outputs": [
    {
     "data": {
      "text/plain": [
       "['I',\n",
       " 'l',\n",
       " 'i',\n",
       " 'v',\n",
       " 'e',\n",
       " 'm',\n",
       " 'y',\n",
       " 'l',\n",
       " 'i',\n",
       " 'f',\n",
       " 'e',\n",
       " 'a',\n",
       " 'q',\n",
       " 'u',\n",
       " 'a',\n",
       " 'r',\n",
       " 't',\n",
       " 'e',\n",
       " 'r',\n",
       " 'm',\n",
       " 'i',\n",
       " 'l',\n",
       " 'e',\n",
       " 'a',\n",
       " 't',\n",
       " 'a',\n",
       " 't',\n",
       " 'i',\n",
       " 'm',\n",
       " 'e',\n",
       " '.',\n",
       " 'N',\n",
       " 'o',\n",
       " 't',\n",
       " 'h',\n",
       " 'i',\n",
       " 'n',\n",
       " 'g',\n",
       " 'e',\n",
       " 'l',\n",
       " 's',\n",
       " 'e',\n",
       " 'm',\n",
       " 'a',\n",
       " 't',\n",
       " 't',\n",
       " 'e',\n",
       " 'r',\n",
       " 's',\n",
       " ':',\n",
       " 'n',\n",
       " 'o',\n",
       " 't',\n",
       " 't',\n",
       " 'h',\n",
       " 'e',\n",
       " 'm',\n",
       " 'o',\n",
       " 'r',\n",
       " 't',\n",
       " 'g',\n",
       " 'a',\n",
       " 'g',\n",
       " 'e',\n",
       " ',',\n",
       " 'n',\n",
       " 'o',\n",
       " 't',\n",
       " 't',\n",
       " 'h',\n",
       " 'e',\n",
       " 's',\n",
       " 't',\n",
       " 'o',\n",
       " 'r',\n",
       " 'e',\n",
       " ',',\n",
       " 'n',\n",
       " 'o',\n",
       " 't',\n",
       " 'm',\n",
       " 'y',\n",
       " 't',\n",
       " 'e',\n",
       " 'a',\n",
       " 'm',\n",
       " 'a',\n",
       " 'n',\n",
       " 'd',\n",
       " 'a',\n",
       " 'l',\n",
       " 'l',\n",
       " 't',\n",
       " 'h',\n",
       " 'e',\n",
       " 'i',\n",
       " 'r',\n",
       " 'b',\n",
       " 'u',\n",
       " 'l',\n",
       " 'l',\n",
       " 's',\n",
       " 'h',\n",
       " 'i',\n",
       " 't',\n",
       " '.',\n",
       " 'F',\n",
       " 'o',\n",
       " 'r',\n",
       " 't',\n",
       " 'h',\n",
       " 'o',\n",
       " 's',\n",
       " 'e',\n",
       " 't',\n",
       " 'e',\n",
       " 'n',\n",
       " 's',\n",
       " 'e',\n",
       " 'c',\n",
       " 'o',\n",
       " 'n',\n",
       " 'd',\n",
       " 's',\n",
       " 'o',\n",
       " 'r',\n",
       " 'l',\n",
       " 'e',\n",
       " 's',\n",
       " 's',\n",
       " ',',\n",
       " 'I',\n",
       " '’',\n",
       " 'm',\n",
       " 'f',\n",
       " 'r',\n",
       " 'e',\n",
       " 'e',\n",
       " '.']"
      ]
     },
     "execution_count": 7,
     "metadata": {},
     "output_type": "execute_result"
    }
   ],
   "source": [
    "letter_1 =[i[0] for i in text if i[0] !=' ']\n",
    "letter_1"
   ]
  },
  {
   "cell_type": "code",
   "execution_count": null,
   "id": "c6d6e5df",
   "metadata": {},
   "outputs": [],
   "source": [
    "# A Pythagorean triple is a set (x,y,z), \n",
    "# with positive integers x ≤ y ≤ z such that  𝑥2+𝑦2=𝑧2 . \n",
    "# Use a single comprehension to \n",
    "# make a list of all Pythagorean triples such that all 3 numbers are below 25."
   ]
  },
  {
   "cell_type": "code",
   "execution_count": 14,
   "id": "a5a9e171",
   "metadata": {},
   "outputs": [
    {
     "name": "stdout",
     "output_type": "stream",
     "text": [
      "3 4 5\n",
      "5 12 13\n",
      "6 8 10\n",
      "7 24 25\n",
      "8 15 17\n",
      "9 12 15\n",
      "12 16 20\n",
      "15 20 25\n"
     ]
    }
   ],
   "source": [
    "#r=[]\n",
    "for x in range(1,26):\n",
    "    for y in range(1,26):\n",
    "        for z in range(1,26):\n",
    "            if x<=y<=z and (x**2) + (y**2) == (z**2):\n",
    "                print(x,y,z)\n",
    "                #r.append(tuple(x,y,z))\n",
    "        \n",
    "#how do I get these in a list?    "
   ]
  },
  {
   "cell_type": "code",
   "execution_count": 8,
   "id": "9473d139",
   "metadata": {},
   "outputs": [
    {
     "ename": "SyntaxError",
     "evalue": "invalid syntax (<ipython-input-8-4d12d3e78102>, line 1)",
     "output_type": "error",
     "traceback": [
      "\u001b[0;36m  File \u001b[0;32m\"<ipython-input-8-4d12d3e78102>\"\u001b[0;36m, line \u001b[0;32m1\u001b[0m\n\u001b[0;31m    m={(x,y,z)for x in range(1,26) for y in range(1,26)for z in range(1,26) if x<=y<=z and x**2+y**2=z**2}\u001b[0m\n\u001b[0m                                                                                                    ^\u001b[0m\n\u001b[0;31mSyntaxError\u001b[0m\u001b[0;31m:\u001b[0m invalid syntax\n"
     ]
    }
   ],
   "source": [
    "m={(x,y,z)for x in range(1,26) for y in range(1,26) for z in range(1,26) if x<=y<=z and x**2+y**2=z**2}\n",
    "m"
   ]
  },
  {
   "cell_type": "code",
   "execution_count": null,
   "id": "d4780045",
   "metadata": {},
   "outputs": [],
   "source": []
  }
 ],
 "metadata": {
  "environment": {
   "name": "tf2-gpu.2-1.m46",
   "type": "gcloud",
   "uri": "gcr.io/deeplearning-platform-release/tf2-gpu.2-1:m46"
  },
  "kernelspec": {
   "display_name": "Python 3",
   "language": "python",
   "name": "python3"
  },
  "language_info": {
   "codemirror_mode": {
    "name": "ipython",
    "version": 3
   },
   "file_extension": ".py",
   "mimetype": "text/x-python",
   "name": "python",
   "nbconvert_exporter": "python",
   "pygments_lexer": "ipython3",
   "version": "3.7.6"
  }
 },
 "nbformat": 4,
 "nbformat_minor": 5
}
