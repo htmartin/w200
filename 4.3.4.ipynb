{
 "cells": [
  {
   "cell_type": "code",
   "execution_count": 4,
   "id": "7b055692",
   "metadata": {},
   "outputs": [
    {
     "ename": "NameError",
     "evalue": "name 'pos' is not defined",
     "output_type": "error",
     "traceback": [
      "\u001b[0;31m---------------------------------------------------------------------------\u001b[0m",
      "\u001b[0;31mNameError\u001b[0m                                 Traceback (most recent call last)",
      "\u001b[0;32m<ipython-input-4-575b008aec99>\u001b[0m in \u001b[0;36m<module>\u001b[0;34m\u001b[0m\n\u001b[1;32m      1\u001b[0m \u001b[0mword\u001b[0m \u001b[0;34m=\u001b[0m \u001b[0;34m\"Welcomed\"\u001b[0m\u001b[0;34m\u001b[0m\u001b[0;34m\u001b[0m\u001b[0m\n\u001b[1;32m      2\u001b[0m \u001b[0;31m#word.del(word[1])\u001b[0m\u001b[0;34m\u001b[0m\u001b[0;34m\u001b[0m\u001b[0;34m\u001b[0m\u001b[0m\n\u001b[0;32m----> 3\u001b[0;31m \u001b[0mword\u001b[0m \u001b[0;34m=\u001b[0m \u001b[0mword\u001b[0m\u001b[0;34m[\u001b[0m\u001b[0;34m:\u001b[0m\u001b[0mpos\u001b[0m\u001b[0;34m]\u001b[0m \u001b[0;34m+\u001b[0m \u001b[0mword\u001b[0m\u001b[0;34m[\u001b[0m\u001b[0;34m(\u001b[0m\u001b[0mpos\u001b[0m\u001b[0;34m+\u001b[0m\u001b[0;36m1\u001b[0m\u001b[0;34m)\u001b[0m\u001b[0;34m:\u001b[0m\u001b[0;34m]\u001b[0m\u001b[0;34m\u001b[0m\u001b[0;34m\u001b[0m\u001b[0m\n\u001b[0m",
      "\u001b[0;31mNameError\u001b[0m: name 'pos' is not defined"
     ]
    }
   ],
   "source": [
    "word = \"Welcomed\"\n",
    "#word.del(word[1])\n",
    "word = word[:pos] + word[(pos+1):]"
   ]
  },
  {
   "cell_type": "code",
   "execution_count": 10,
   "id": "266f6f29",
   "metadata": {},
   "outputs": [
    {
     "name": "stdout",
     "output_type": "stream",
     "text": [
      "['elcomed']\n",
      "['elcomed', 'Wlcomd']\n",
      "['elcomed', 'Wlcomd', 'Wecomed']\n",
      "['elcomed', 'Wlcomd', 'Wecomed', 'Welomed']\n",
      "['elcomed', 'Wlcomd', 'Wecomed', 'Welomed', 'Welcmed']\n",
      "['elcomed', 'Wlcomd', 'Wecomed', 'Welomed', 'Welcmed', 'Welcoed']\n",
      "['elcomed', 'Wlcomd', 'Wecomed', 'Welomed', 'Welcmed', 'Welcoed', 'Wlcomd']\n",
      "['elcomed', 'Wlcomd', 'Wecomed', 'Welomed', 'Welcmed', 'Welcoed', 'Wlcomd', 'Welcome']\n"
     ]
    }
   ],
   "source": [
    "word = \"Welcomed\"\n",
    "delete_letter = []\n",
    "for i in range(0,len(word)):\n",
    "    delete_letter.append(word.replace(word[i],''))\n",
    "    print(delete_letter)"
   ]
  },
  {
   "cell_type": "code",
   "execution_count": 11,
   "id": "0cec243e",
   "metadata": {},
   "outputs": [
    {
     "name": "stdout",
     "output_type": "stream",
     "text": [
      "['elcomed', 'Wlcomd', 'Wecomed', 'Welomed', 'Welcmed', 'Welcoed', 'Wlcomd', 'Welcome']\n"
     ]
    }
   ],
   "source": [
    "word = \"Welcomed\"\n",
    "delete_letter = [word.replace(word[i],'') for i in range(0,len(word))]\n",
    "print(delete_letter)"
   ]
  },
  {
   "cell_type": "code",
   "execution_count": null,
   "id": "726af818",
   "metadata": {},
   "outputs": [],
   "source": []
  }
 ],
 "metadata": {
  "environment": {
   "name": "tf2-gpu.2-1.m46",
   "type": "gcloud",
   "uri": "gcr.io/deeplearning-platform-release/tf2-gpu.2-1:m46"
  },
  "kernelspec": {
   "display_name": "Python 3",
   "language": "python",
   "name": "python3"
  },
  "language_info": {
   "codemirror_mode": {
    "name": "ipython",
    "version": 3
   },
   "file_extension": ".py",
   "mimetype": "text/x-python",
   "name": "python",
   "nbconvert_exporter": "python",
   "pygments_lexer": "ipython3",
   "version": "3.7.6"
  }
 },
 "nbformat": 4,
 "nbformat_minor": 5
}
