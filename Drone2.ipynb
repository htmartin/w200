{
 "cells": [
  {
   "cell_type": "code",
   "execution_count": 7,
   "id": "e692f5b0",
   "metadata": {},
   "outputs": [
    {
     "ename": "SyntaxError",
     "evalue": "invalid syntax (<ipython-input-7-187f64428d36>, line 5)",
     "output_type": "error",
     "traceback": [
      "\u001b[0;36m  File \u001b[0;32m\"<ipython-input-7-187f64428d36>\"\u001b[0;36m, line \u001b[0;32m5\u001b[0m\n\u001b[0;31m    return 'The' + self.power_system '-powered drone is flying.'\u001b[0m\n\u001b[0m                                                               ^\u001b[0m\n\u001b[0;31mSyntaxError\u001b[0m\u001b[0;31m:\u001b[0m invalid syntax\n"
     ]
    }
   ],
   "source": [
    "class Drone:\n",
    "    '''rep of a drone aircraft'''\n",
    "    power_system ='battery'\n",
    "    def fly(self):\n",
    "        return 'The' + self.power_system '-powered drone is flying.'"
   ]
  },
  {
   "cell_type": "code",
   "execution_count": 5,
   "id": "c6a80ebf",
   "metadata": {},
   "outputs": [],
   "source": [
    "d1 = Drone()"
   ]
  },
  {
   "cell_type": "code",
   "execution_count": 6,
   "id": "ed858f59",
   "metadata": {},
   "outputs": [
    {
     "data": {
      "text/plain": [
       "'The drone is flying.'"
      ]
     },
     "execution_count": 6,
     "metadata": {},
     "output_type": "execute_result"
    }
   ],
   "source": [
    "d1.fly()"
   ]
  },
  {
   "cell_type": "code",
   "execution_count": null,
   "id": "bf4066b9",
   "metadata": {},
   "outputs": [],
   "source": []
  }
 ],
 "metadata": {
  "environment": {
   "name": "tf2-gpu.2-1.m46",
   "type": "gcloud",
   "uri": "gcr.io/deeplearning-platform-release/tf2-gpu.2-1:m46"
  },
  "kernelspec": {
   "display_name": "Python 3",
   "language": "python",
   "name": "python3"
  },
  "language_info": {
   "codemirror_mode": {
    "name": "ipython",
    "version": 3
   },
   "file_extension": ".py",
   "mimetype": "text/x-python",
   "name": "python",
   "nbconvert_exporter": "python",
   "pygments_lexer": "ipython3",
   "version": "3.7.6"
  }
 },
 "nbformat": 4,
 "nbformat_minor": 5
}
