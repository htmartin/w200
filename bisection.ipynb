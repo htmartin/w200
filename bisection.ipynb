{
 "cells": [
  {
   "cell_type": "code",
   "execution_count": 1,
   "id": "77e22912",
   "metadata": {},
   "outputs": [
    {
     "name": "stdin",
     "output_type": "stream",
     "text": [
      "enter a number: 10\n"
     ]
    },
    {
     "name": "stdout",
     "output_type": "stream",
     "text": [
      "low = 0.0 high = 10.0\n",
      "low = 0.0 high = 5.0\n",
      "low = 2.5 high = 5.0\n",
      "low = 2.5 high = 3.75\n",
      "low = 3.125 high = 3.75\n",
      "low = 3.125 high = 3.4375\n",
      "low = 3.125 high = 3.28125\n",
      "low = 3.125 high = 3.203125\n",
      "low = 3.125 high = 3.1640625\n",
      "low = 3.14453125 high = 3.1640625\n",
      "low = 3.154296875 high = 3.1640625\n",
      "low = 3.1591796875 high = 3.1640625\n",
      "low = 3.16162109375 high = 3.1640625\n",
      "low = 3.16162109375 high = 3.162841796875\n",
      "low = 3.1622314453125 high = 3.162841796875\n",
      "low = 3.1622314453125 high = 3.16253662109375\n",
      "low = 3.1622314453125 high = 3.162384033203125\n",
      "low = 3.1622314453125 high = 3.1623077392578125\n",
      "low = 3.1622695922851562 high = 3.1623077392578125\n",
      "low = 3.1622695922851562 high = 3.1622886657714844\n",
      "low = 3.1622695922851562 high = 3.1622791290283203\n",
      "low = 3.1622743606567383 high = 3.1622791290283203\n",
      "low = 3.1622767448425293 high = 3.1622791290283203\n",
      "low = 3.1622767448425293 high = 3.162277936935425\n",
      "low = 3.162277340888977 high = 3.162277936935425\n",
      "low = 3.162277638912201 high = 3.162277936935425\n",
      "low = 3.162277638912201 high = 3.162277787923813\n",
      "low = 3.162277638912201 high = 3.162277713418007\n",
      "low = 3.162277638912201 high = 3.162277676165104\n",
      "low = 3.1622776575386524 high = 3.162277676165104\n",
      "low = 3.1622776575386524 high = 3.162277666851878\n",
      "low = 3.1622776575386524 high = 3.1622776621952653\n",
      "low = 3.162277659866959 high = 3.1622776621952653\n",
      "low = 3.162277659866959 high = 3.162277661031112\n",
      "low = 3.162277659866959 high = 3.1622776604490355\n",
      "low = 3.162277660157997 high = 3.1622776604490355\n",
      "number of guesses = 36\n",
      "3.1622776602307567 is close to square root of 10.0\n"
     ]
    }
   ],
   "source": [
    "x = float(input(\"enter a number:\"))\n",
    "epsilon = 0.0000000001\n",
    "num_guesses = 0\n",
    "low = 0.0\n",
    "if x < 1:\n",
    "    high = 1\n",
    "else:\n",
    "    high = x\n",
    "#high = x\n",
    "ans = (high + low)/2.0\n",
    "while high - low >= 2 * epsilon:\n",
    "    print(\"low =\",low,\"high =\", high)\n",
    "    num_guesses += 1\n",
    "    if ans ** 2 < x:\n",
    "        low = ans\n",
    "    else:\n",
    "        high = ans\n",
    "    ans = (high + low)/2.0\n",
    "print('number of guesses =', num_guesses)\n",
    "print(ans, 'is close to square root of', x)"
   ]
  },
  {
   "cell_type": "code",
   "execution_count": null,
   "id": "0143082c",
   "metadata": {},
   "outputs": [],
   "source": []
  }
 ],
 "metadata": {
  "environment": {
   "name": "tf2-gpu.2-1.m46",
   "type": "gcloud",
   "uri": "gcr.io/deeplearning-platform-release/tf2-gpu.2-1:m46"
  },
  "kernelspec": {
   "display_name": "Python 3",
   "language": "python",
   "name": "python3"
  },
  "language_info": {
   "codemirror_mode": {
    "name": "ipython",
    "version": 3
   },
   "file_extension": ".py",
   "mimetype": "text/x-python",
   "name": "python",
   "nbconvert_exporter": "python",
   "pygments_lexer": "ipython3",
   "version": "3.7.6"
  }
 },
 "nbformat": 4,
 "nbformat_minor": 5
}
