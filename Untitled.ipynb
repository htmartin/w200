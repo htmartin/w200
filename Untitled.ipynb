{
 "cells": [
  {
   "cell_type": "code",
   "execution_count": 3,
   "id": "9f086570",
   "metadata": {},
   "outputs": [],
   "source": [
    "def comment(color):\n",
    "    if color =='red':\n",
    "        return 'Tomato'\n",
    "    elif color =='green':\n",
    "        return 'Watermelon'\n",
    "    elif color == 'bee purple' :\n",
    "        return \"I don't know what it is, but only bees can see it.\" \n",
    "    else :\n",
    "        return \"I've never heard of the color \" + color + \".\" \n",
    "\n",
    "        "
   ]
  },
  {
   "cell_type": "code",
   "execution_count": 7,
   "id": "975776d2",
   "metadata": {},
   "outputs": [
    {
     "data": {
      "text/plain": [
       "\"I don't know what it is, but only bees can see it.\""
      ]
     },
     "execution_count": 7,
     "metadata": {},
     "output_type": "execute_result"
    }
   ],
   "source": [
    "# comment('red')\n",
    "# comment('green')\n",
    "# comment('dog')\n",
    "comment('bee purple')"
   ]
  },
  {
   "cell_type": "code",
   "execution_count": null,
   "id": "75dc7d50",
   "metadata": {},
   "outputs": [],
   "source": []
  }
 ],
 "metadata": {
  "environment": {
   "name": "tf2-gpu.2-1.m46",
   "type": "gcloud",
   "uri": "gcr.io/deeplearning-platform-release/tf2-gpu.2-1:m46"
  },
  "kernelspec": {
   "display_name": "Python 3",
   "language": "python",
   "name": "python3"
  },
  "language_info": {
   "codemirror_mode": {
    "name": "ipython",
    "version": 3
   },
   "file_extension": ".py",
   "mimetype": "text/x-python",
   "name": "python",
   "nbconvert_exporter": "python",
   "pygments_lexer": "ipython3",
   "version": "3.7.6"
  }
 },
 "nbformat": 4,
 "nbformat_minor": 5
}
