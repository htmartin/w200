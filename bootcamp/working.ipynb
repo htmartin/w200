{
 "cells": [
  {
   "cell_type": "code",
   "execution_count": 1,
   "id": "e9afc688",
   "metadata": {},
   "outputs": [],
   "source": [
    "board_dict = {1:1, 2:2, 3:3,4:4, 5:5, 6:6, 7:7, 8:8, 9:9}\n",
    "\n",
    "def printBoard_original():   \n",
    "    board_list = list(board_dict.values())\n",
    "    \n",
    "    print ( \"     |     |   \")\n",
    "    print (\" \",board_list[0],\" | \", board_list[1], \" | \", board_list[2],\"  \")\n",
    "    print ( \"     |     |   \")\n",
    "    print (\" ----|-----|----\")\n",
    "    print ( \"     |     |   \")\n",
    "    print (\" \",board_list[3],\" | \", board_list[4], \" | \", board_list[5],\"  \")\n",
    "    print ( \"     |     |   \")\n",
    "    print (\" ----|-----|----\")\n",
    "    print ( \"     |     |   \")\n",
    "    print (\" \",board_list[6],\" | \", board_list[7], \" | \", board_list[8],\"  \")\n",
    "    print ( \"     |     |   \")\n",
    "    print (\"     |     |   \")"
   ]
  },
  {
   "cell_type": "code",
   "execution_count": null,
   "id": "33b8599d",
   "metadata": {},
   "outputs": [
    {
     "name": "stdout",
     "output_type": "stream",
     "text": [
      "Tic Tac Toe\n",
      "The board looks like this:\n",
      "     |     |   \n",
      "  1  |  2  |  3   \n",
      "     |     |   \n",
      " ----|-----|----\n",
      "     |     |   \n",
      "  4  |  5  |  6   \n",
      "     |     |   \n",
      " ----|-----|----\n",
      "     |     |   \n",
      "  7  |  8  |  9   \n",
      "     |     |   \n",
      "     |     |   \n",
      "None\n",
      "Players take turns placing their mark to try to get three in a row, horizontally,vertically, or diagonally. Let's play!\n"
     ]
    },
    {
     "name": "stdin",
     "output_type": "stream",
     "text": [
      "Are you player X or player O? Enter x or o: x\n",
      "Ready Player. Where do you want to play next? Enter a position number from 1-9 to place your mark? 1\n"
     ]
    },
    {
     "name": "stdout",
     "output_type": "stream",
     "text": [
      "     |     |   \n",
      "  x  |  2  |  3   \n",
      "     |     |   \n",
      " ----|-----|----\n",
      "     |     |   \n",
      "  4  |  5  |  6   \n",
      "     |     |   \n",
      " ----|-----|----\n",
      "     |     |   \n",
      "  7  |  8  |  9   \n",
      "     |     |   \n",
      "     |     |   \n",
      "None\n"
     ]
    },
    {
     "name": "stdin",
     "output_type": "stream",
     "text": [
      "Are you player X or player O? Enter x or o: o\n",
      "Ready Player. Where do you want to play next? Enter a position number from 1-9 to place your mark? 3\n"
     ]
    },
    {
     "name": "stdout",
     "output_type": "stream",
     "text": [
      "     |     |   \n",
      "  x  |  2  |  o   \n",
      "     |     |   \n",
      " ----|-----|----\n",
      "     |     |   \n",
      "  4  |  5  |  6   \n",
      "     |     |   \n",
      " ----|-----|----\n",
      "     |     |   \n",
      "  7  |  8  |  9   \n",
      "     |     |   \n",
      "     |     |   \n",
      "None\n"
     ]
    },
    {
     "name": "stdin",
     "output_type": "stream",
     "text": [
      "Are you player X or player O? Enter x or o: x\n",
      "Ready Player. Where do you want to play next? Enter a position number from 1-9 to place your mark? 4\n"
     ]
    },
    {
     "name": "stdout",
     "output_type": "stream",
     "text": [
      "     |     |   \n",
      "  x  |  2  |  o   \n",
      "     |     |   \n",
      " ----|-----|----\n",
      "     |     |   \n",
      "  x  |  5  |  6   \n",
      "     |     |   \n",
      " ----|-----|----\n",
      "     |     |   \n",
      "  7  |  8  |  9   \n",
      "     |     |   \n",
      "     |     |   \n",
      "None\n"
     ]
    },
    {
     "name": "stdin",
     "output_type": "stream",
     "text": [
      "Are you player X or player O? Enter x or o: o\n",
      "Ready Player. Where do you want to play next? Enter a position number from 1-9 to place your mark? 7\n"
     ]
    },
    {
     "name": "stdout",
     "output_type": "stream",
     "text": [
      "     |     |   \n",
      "  x  |  2  |  o   \n",
      "     |     |   \n",
      " ----|-----|----\n",
      "     |     |   \n",
      "  x  |  5  |  6   \n",
      "     |     |   \n",
      " ----|-----|----\n",
      "     |     |   \n",
      "  o  |  8  |  9   \n",
      "     |     |   \n",
      "     |     |   \n",
      "None\n"
     ]
    },
    {
     "name": "stdin",
     "output_type": "stream",
     "text": [
      "Are you player X or player O? Enter x or o: x\n",
      "Ready Player. Where do you want to play next? Enter a position number from 1-9 to place your mark? 5\n"
     ]
    },
    {
     "name": "stdout",
     "output_type": "stream",
     "text": [
      "     |     |   \n",
      "  x  |  2  |  o   \n",
      "     |     |   \n",
      " ----|-----|----\n",
      "     |     |   \n",
      "  x  |  x  |  6   \n",
      "     |     |   \n",
      " ----|-----|----\n",
      "     |     |   \n",
      "  o  |  8  |  9   \n",
      "     |     |   \n",
      "     |     |   \n",
      "None\n"
     ]
    },
    {
     "name": "stdin",
     "output_type": "stream",
     "text": [
      "Are you player X or player O? Enter x or o: o\n",
      "Ready Player. Where do you want to play next? Enter a position number from 1-9 to place your mark? 9\n"
     ]
    },
    {
     "name": "stdout",
     "output_type": "stream",
     "text": [
      "     |     |   \n",
      "  x  |  2  |  o   \n",
      "     |     |   \n",
      " ----|-----|----\n",
      "     |     |   \n",
      "  x  |  x  |  6   \n",
      "     |     |   \n",
      " ----|-----|----\n",
      "     |     |   \n",
      "  o  |  8  |  o   \n",
      "     |     |   \n",
      "     |     |   \n",
      "None\n"
     ]
    },
    {
     "name": "stdin",
     "output_type": "stream",
     "text": [
      "Are you player X or player O? Enter x or o: x\n",
      "Ready Player. Where do you want to play next? Enter a position number from 1-9 to place your mark? 6\n"
     ]
    },
    {
     "name": "stdout",
     "output_type": "stream",
     "text": [
      "     |     |   \n",
      "  x  |  2  |  o   \n",
      "     |     |   \n",
      " ----|-----|----\n",
      "     |     |   \n",
      "  x  |  x  |  x   \n",
      "     |     |   \n",
      " ----|-----|----\n",
      "     |     |   \n",
      "  o  |  8  |  o   \n",
      "     |     |   \n",
      "     |     |   \n",
      "None\n"
     ]
    }
   ],
   "source": [
    "#Instructions   \n",
    "print('Tic Tac Toe')\n",
    "print ('The board looks like this:')\n",
    "print(printBoard_original())\n",
    "print(\"Players take turns placing their mark to try to get three \\\n",
    "in a row, horizontally,vertically, or diagonally. Let's play!\")\n",
    "\n",
    "\n",
    "\n",
    "#Run game\n",
    "while True:\n",
    "    p= input('Are you player X or player O? Enter x or o:')\n",
    "    n = int(input('Ready Player. Where do you want to play next? Enter a position number from 1-9 to place your mark?'))\n",
    "    board_dict[n]= p\n",
    "    #update board_dict with appropriate n:p pair before we call printBoard_turn\n",
    "    print(printBoard_original())\n",
    "#Integrate update board_dict back in with functions \n",
    "#so printing board matching board_dict each move"
   ]
  },
  {
   "cell_type": "code",
   "execution_count": null,
   "id": "4e9f61f5",
   "metadata": {},
   "outputs": [],
   "source": []
  }
 ],
 "metadata": {
  "environment": {
   "name": "tf2-gpu.2-1.m46",
   "type": "gcloud",
   "uri": "gcr.io/deeplearning-platform-release/tf2-gpu.2-1:m46"
  },
  "kernelspec": {
   "display_name": "Python 3",
   "language": "python",
   "name": "python3"
  },
  "language_info": {
   "codemirror_mode": {
    "name": "ipython",
    "version": 3
   },
   "file_extension": ".py",
   "mimetype": "text/x-python",
   "name": "python",
   "nbconvert_exporter": "python",
   "pygments_lexer": "ipython3",
   "version": "3.7.6"
  }
 },
 "nbformat": 4,
 "nbformat_minor": 5
}
