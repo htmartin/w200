{
 "cells": [
  {
   "cell_type": "code",
   "execution_count": null,
   "id": "20263a90",
   "metadata": {},
   "outputs": [],
   "source": [
    "# For this challenge, create a bank account class that has two attributes:\n",
    "# owner\n",
    "# balance\n",
    "\n",
    "# and two methods:\n",
    "# deposit\n",
    "# withdraw\n",
    "\n",
    "# As an added requirement, withdrawals may not exceed the available balance.\n",
    "\n",
    "\n"
   ]
  },
  {
   "cell_type": "code",
   "execution_count": 46,
   "id": "05dbb111",
   "metadata": {},
   "outputs": [],
   "source": [
    "class Account:\n",
    "    \n",
    "    def __init__(self,owner,balance):\n",
    "        self.owner = owner\n",
    "        self.balance= balance\n",
    "    \n",
    "    #method:deposit\n",
    "    def deposit(self,amount):\n",
    "        self.balance += amount\n",
    "        print('Deposit Accepted')\n",
    "    \n",
    "      # method: withdraw\n",
    "    def withdraw(self,amount):\n",
    "        if self.balance-amount>0:\n",
    "            self.balance -=amount\n",
    "            print('Withdrawal Accepted')\n",
    "        else:\n",
    "            print('Funds unavailable')\n",
    "            \n",
    "            "
   ]
  },
  {
   "cell_type": "code",
   "execution_count": 47,
   "id": "0c62497b",
   "metadata": {},
   "outputs": [],
   "source": [
    "acct1= Account('bob', 300)"
   ]
  },
  {
   "cell_type": "code",
   "execution_count": 48,
   "id": "3da2d78d",
   "metadata": {},
   "outputs": [
    {
     "data": {
      "text/plain": [
       "'bob'"
      ]
     },
     "execution_count": 48,
     "metadata": {},
     "output_type": "execute_result"
    }
   ],
   "source": [
    "acct1.owner"
   ]
  },
  {
   "cell_type": "code",
   "execution_count": 49,
   "id": "2117c0a6",
   "metadata": {},
   "outputs": [
    {
     "data": {
      "text/plain": [
       "300"
      ]
     },
     "execution_count": 49,
     "metadata": {},
     "output_type": "execute_result"
    }
   ],
   "source": [
    "acct1.balance"
   ]
  },
  {
   "cell_type": "code",
   "execution_count": 50,
   "id": "c02907fa",
   "metadata": {},
   "outputs": [
    {
     "name": "stdout",
     "output_type": "stream",
     "text": [
      "Deposit Accepted\n",
      "400\n"
     ]
    }
   ],
   "source": [
    "acct1.deposit(100)\n",
    "print(acct1.balance)"
   ]
  },
  {
   "cell_type": "code",
   "execution_count": 51,
   "id": "859297e9",
   "metadata": {},
   "outputs": [
    {
     "name": "stdout",
     "output_type": "stream",
     "text": [
      "Funds unavailable\n",
      "400\n"
     ]
    }
   ],
   "source": [
    "acct1.withdraw(500)\n",
    "print(acct1.balance)"
   ]
  },
  {
   "cell_type": "code",
   "execution_count": null,
   "id": "7ab1d5a6",
   "metadata": {},
   "outputs": [],
   "source": []
  }
 ],
 "metadata": {
  "environment": {
   "name": "tf2-gpu.2-1.m46",
   "type": "gcloud",
   "uri": "gcr.io/deeplearning-platform-release/tf2-gpu.2-1:m46"
  },
  "kernelspec": {
   "display_name": "Python 3",
   "language": "python",
   "name": "python3"
  },
  "language_info": {
   "codemirror_mode": {
    "name": "ipython",
    "version": 3
   },
   "file_extension": ".py",
   "mimetype": "text/x-python",
   "name": "python",
   "nbconvert_exporter": "python",
   "pygments_lexer": "ipython3",
   "version": "3.7.6"
  }
 },
 "nbformat": 4,
 "nbformat_minor": 5
}
