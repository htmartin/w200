{
 "cells": [
  {
   "cell_type": "code",
   "execution_count": null,
   "id": "cbae17fb",
   "metadata": {},
   "outputs": [],
   "source": [
    "# For this challenge, create a bank account class that has two attributes:\n",
    "# owner\n",
    "# balance\n",
    "\n",
    "# and two methods:\n",
    "# deposit\n",
    "# withdraw\n",
    "\n",
    "# As an added requirement, withdrawals may not exceed the available balance.\n",
    "\n",
    "\n"
   ]
  },
  {
   "cell_type": "code",
   "execution_count": 45,
   "id": "499f6605",
   "metadata": {},
   "outputs": [],
   "source": [
    "class Account:\n",
    "    \n",
    "    def __init__(self,owner,balance):\n",
    "        self.owner = owner\n",
    "        self.balance= balance\n",
    "    \n",
    "    #method:deposit\n",
    "    def deposit(self,amount):\n",
    "        self.balance += amount\n",
    "        print('Deposit Accepted')\n",
    "    \n",
    "      # method: withdraw\n",
    "    def withdraw(self,amount):\n",
    "        if self.balance-amount>0:\n",
    "            self.balance -=amount\n",
    "            print('Withdrawal Accepted')\n",
    "        else print('Funds unavailable')\n",
    "            \n",
    "            "
   ]
  },
  {
   "cell_type": "code",
   "execution_count": 36,
   "id": "e67b700e",
   "metadata": {},
   "outputs": [],
   "source": [
    "acct1= Account('bob', 300)"
   ]
  },
  {
   "cell_type": "code",
   "execution_count": 37,
   "id": "287e008d",
   "metadata": {},
   "outputs": [
    {
     "data": {
      "text/plain": [
       "'bob'"
      ]
     },
     "execution_count": 37,
     "metadata": {},
     "output_type": "execute_result"
    }
   ],
   "source": [
    "acct1.owner"
   ]
  },
  {
   "cell_type": "code",
   "execution_count": 41,
   "id": "8664142c",
   "metadata": {},
   "outputs": [
    {
     "data": {
      "text/plain": [
       "200"
      ]
     },
     "execution_count": 41,
     "metadata": {},
     "output_type": "execute_result"
    }
   ],
   "source": [
    "acct1.balance"
   ]
  },
  {
   "cell_type": "code",
   "execution_count": 42,
   "id": "188b62ab",
   "metadata": {},
   "outputs": [
    {
     "name": "stdout",
     "output_type": "stream",
     "text": [
      "300\n"
     ]
    }
   ],
   "source": [
    "acct1.deposit(100)\n",
    "print(acct1.balance)"
   ]
  },
  {
   "cell_type": "code",
   "execution_count": 43,
   "id": "7496c453",
   "metadata": {},
   "outputs": [
    {
     "name": "stdout",
     "output_type": "stream",
     "text": [
      "100\n"
     ]
    }
   ],
   "source": [
    "acct1.withdraw(400)\n",
    "print(acct1.balance)"
   ]
  },
  {
   "cell_type": "code",
   "execution_count": null,
   "id": "4aa4230f",
   "metadata": {},
   "outputs": [],
   "source": []
  }
 ],
 "metadata": {
  "environment": {
   "name": "tf2-gpu.2-1.m46",
   "type": "gcloud",
   "uri": "gcr.io/deeplearning-platform-release/tf2-gpu.2-1:m46"
  },
  "kernelspec": {
   "display_name": "Python 3",
   "language": "python",
   "name": "python3"
  },
  "language_info": {
   "codemirror_mode": {
    "name": "ipython",
    "version": 3
   },
   "file_extension": ".py",
   "mimetype": "text/x-python",
   "name": "python",
   "nbconvert_exporter": "python",
   "pygments_lexer": "ipython3",
   "version": "3.7.6"
  }
 },
 "nbformat": 4,
 "nbformat_minor": 5
}
