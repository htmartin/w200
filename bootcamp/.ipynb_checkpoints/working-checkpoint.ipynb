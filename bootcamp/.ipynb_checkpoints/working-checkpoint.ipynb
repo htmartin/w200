{
 "cells": [
  {
   "cell_type": "code",
   "execution_count": 1,
   "id": "1496f592",
   "metadata": {},
   "outputs": [],
   "source": [
    "board_dict = {1:1, 2:2, 3:3,4:4, 5:5, 6:6, 7:7, 8:8, 9:9}\n",
    "\n",
    "def printBoard_original():   \n",
    "    board_list = list(board_dict.values())\n",
    "    \n",
    "    print ( \"     |     |   \")\n",
    "    print (\" \",board_list[0],\" | \", board_list[1], \" | \", board_list[2],\"  \")\n",
    "    print ( \"     |     |   \")\n",
    "    print (\" ----|-----|----\")\n",
    "    print ( \"     |     |   \")\n",
    "    print (\" \",board_list[3],\" | \", board_list[4], \" | \", board_list[5],\"  \")\n",
    "    print ( \"     |     |   \")\n",
    "    print (\" ----|-----|----\")\n",
    "    print ( \"     |     |   \")\n",
    "    print (\" \",board_list[6],\" | \", board_list[7], \" | \", board_list[8],\"  \")\n",
    "    print ( \"     |     |   \")\n",
    "    print (\"     |     |   \")"
   ]
  },
  {
   "cell_type": "code",
   "execution_count": null,
   "id": "568b30bd",
   "metadata": {},
   "outputs": [],
   "source": [
    "#Instructions   \n",
    "print('Tic Tac Toe')\n",
    "print ('The board looks like this:')\n",
    "print(printBoard_original())\n",
    "print(\"Players take turns placing their mark to try to get three \\\n",
    "in a row, horizontally,vertically, or diagonally. Let's play!\")\n",
    "\n",
    "\n",
    "\n",
    "#Run game\n",
    "while True:\n",
    "    p= input('Are you player X or player O? Enter x or o:')\n",
    "    n = int(input('Ready Player. Where do you want to play next? Enter a position number from 1-9 to place your mark?'))\n",
    "    board_dict[n]= p\n",
    "    #update board_dict with appropriate n:p pair before we call printBoard_turn\n",
    "    print(printBoard_original())\n",
    "#Integrate update board_dict back in with functions \n",
    "#so printing board matching board_dict each move"
   ]
  },
  {
   "cell_type": "code",
   "execution_count": null,
   "id": "393912da",
   "metadata": {},
   "outputs": [],
   "source": []
  }
 ],
 "metadata": {
  "environment": {
   "name": "tf2-gpu.2-1.m46",
   "type": "gcloud",
   "uri": "gcr.io/deeplearning-platform-release/tf2-gpu.2-1:m46"
  },
  "kernelspec": {
   "display_name": "Python 3",
   "language": "python",
   "name": "python3"
  },
  "language_info": {
   "codemirror_mode": {
    "name": "ipython",
    "version": 3
   },
   "file_extension": ".py",
   "mimetype": "text/x-python",
   "name": "python",
   "nbconvert_exporter": "python",
   "pygments_lexer": "ipython3",
   "version": "3.7.6"
  }
 },
 "nbformat": 4,
 "nbformat_minor": 5
}
