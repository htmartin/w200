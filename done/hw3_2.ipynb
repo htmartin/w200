{
 "cells": [
  {
   "cell_type": "code",
   "execution_count": null,
   "id": "dcac4df9",
   "metadata": {},
   "outputs": [],
   "source": [
    "# 3-2\n",
    "\n",
    "# Write code that asks the user for a text string including the four numbers, a, b, c, and d, separated by spaces. You can use the split() method on the string to create a list of the four values in order.\n",
    "\n",
    "# Create a tuple that represents each row, then create a tuple that contains those two tuples. It should have the form ((a, b), (c, d)). Print this representation.\n",
    "# Recall that multiplying a matrix by a number effectively multiplies each element of the matrix by that number.\n",
    "\n",
    "# Compute the inverse of the given matrix, again represented as nested tuples, use fstring formatting to show each number to 4 decimal places and print this representation. Use the example below to make sure you understand the equation correctly:\n",
    "\n",
    "# An example on fstring formatting:\n",
    "\n",
    "# print(f'matrix: (({a:.4f}, {b:.4f}), ({c:.4f}, {d:.4f}))')\"\n",
    "\n",
    "# Please enter four numbers separated by spaces: 1 2 3 4\n",
    "\n",
    "# matrix: ((1.0000, 2.0000), (3.0000, 4.0000))\n",
    "# inverse: ((-2.0000, 1.0000), (1.5000, -0.5000))"
   ]
  },
  {
   "cell_type": "code",
   "execution_count": null,
   "id": "b0151feb",
   "metadata": {},
   "outputs": [],
   "source": []
  }
 ],
 "metadata": {
  "environment": {
   "name": "tf2-gpu.2-1.m46",
   "type": "gcloud",
   "uri": "gcr.io/deeplearning-platform-release/tf2-gpu.2-1:m46"
  },
  "kernelspec": {
   "display_name": "Python 3",
   "language": "python",
   "name": "python3"
  },
  "language_info": {
   "codemirror_mode": {
    "name": "ipython",
    "version": 3
   },
   "file_extension": ".py",
   "mimetype": "text/x-python",
   "name": "python",
   "nbconvert_exporter": "python",
   "pygments_lexer": "ipython3",
   "version": "3.7.6"
  }
 },
 "nbformat": 4,
 "nbformat_minor": 5
}
