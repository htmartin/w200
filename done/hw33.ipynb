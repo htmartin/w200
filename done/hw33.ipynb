{
 "cells": [
  {
   "cell_type": "code",
   "execution_count": 3,
   "id": "5087261f",
   "metadata": {},
   "outputs": [
    {
     "name": "stdin",
     "output_type": "stream",
     "text": [
      "Prompt: What would you like to do? add\n",
      "Prompt: What day? Thursday\n"
     ]
    },
    {
     "name": "stdout",
     "output_type": "stream",
     "text": [
      "Thursday\n"
     ]
    },
    {
     "name": "stdin",
     "output_type": "stream",
     "text": [
      "Prompt: What would you like to add to the day's to-do list? clarinet\n",
      "Prompt: What would you like to do? dd\n",
      "Prompt: What would you like to do? add\n",
      "Prompt: What day? Thursday\n"
     ]
    },
    {
     "name": "stdout",
     "output_type": "stream",
     "text": [
      "Thursday\n"
     ]
    },
    {
     "name": "stdin",
     "output_type": "stream",
     "text": [
      "Prompt: What would you like to add to the day's to-do list? homework\n",
      "Prompt: What would you like to do? get\n",
      "What day? Thursday\n"
     ]
    },
    {
     "name": "stdout",
     "output_type": "stream",
     "text": [
      "On Thursday you need to homework\n"
     ]
    },
    {
     "name": "stdin",
     "output_type": "stream",
     "text": [
      "Prompt: What would you like to do? quit\n"
     ]
    },
    {
     "name": "stdout",
     "output_type": "stream",
     "text": [
      "{'Monday': [], 'Tuesday': [], 'Wednesday': [], 'Thursday': 'homework', 'Friday': [], 'Saturday': [], 'Sunday': []}\n",
      "Thank you for using the to do list!\n"
     ]
    }
   ],
   "source": [
    "to_do ={'Monday':[] , 'Tuesday':[], 'Wednesday':[], 'Thursday':[], 'Friday':[], 'Saturday':[], 'Sunday':[] }\n",
    "initial_input='dog'\n",
    "while initial_input != 'quit':\n",
    "    initial_input= input('Prompt: What would you like to do?')    \n",
    "    if initial_input =='add':\n",
    "        add_item_day = input('Prompt: What day?')\n",
    "        add_item_day=add_item_day.lower()\n",
    "        add_item_day=add_item_day.capitalize()\n",
    "        print(add_item_day) \n",
    "\n",
    "        add_item_what = input(\"Prompt: What would you like to add to the day's to-do list?\")\n",
    "        add_item_what=add_item_what.lower()\n",
    "\n",
    "        to_do[add_item_day]= add_item_what\n",
    "    if initial_input =='get':\n",
    "        get_item_day = input('What day?')\n",
    "        get_item_day = get_item_day.lower()\n",
    "        get_item_day = get_item_day.capitalize()\n",
    "        day_to_do_items= to_do[get_item_day]\n",
    "        print('On',get_item_day,'you need to', day_to_do_items)\n",
    "\n",
    "                      \n",
    "print(to_do)\n",
    "print('Thank you for using the to do list!')\n",
    "\n",
    "if initial_input =='get':\n",
    "    get_item_day = input('What day?')\n",
    "    get_item_day = get_item_day.lower()\n",
    "    get_item_day = get_item_day.capitalize()\n",
    "    day_to_do_items= to_do[get_item_day]\n",
    "    print('On',get_item_day,'you need to', day_to_do_items)\n",
    "\n",
    "\n",
    "#     'On',get_item_day ,'you can partay!' isn't high priority:\n",
    "\n",
    "#     if to_do[get_item_day] ==[]:\n",
    "#         print(('On',get_item_day ,'you can partay!')\n",
    " #     else:\n",
    "\n",
    "#     how do I get it to quit? What do I mean I want it to do when I say quit?\n",
    "# practice clarinet, do homework, play with python, eat, sleep, go to work, exercise\n",
    "\n",
    "# Monday, Tuesday, Wednesday, Thursday, Friday, Saturday, Sunday   \n",
    "\n",
    "\n",
    "# Latest problem: This doesn't work - Ensure the user can add multiple items per day. \n",
    "#     (That is, ensure that this adds a new item, not replaces an existing item.)"
   ]
  },
  {
   "cell_type": "code",
   "execution_count": null,
   "id": "490387fb",
   "metadata": {},
   "outputs": [],
   "source": []
  }
 ],
 "metadata": {
  "environment": {
   "name": "tf2-gpu.2-1.m46",
   "type": "gcloud",
   "uri": "gcr.io/deeplearning-platform-release/tf2-gpu.2-1:m46"
  },
  "kernelspec": {
   "display_name": "Python 3",
   "language": "python",
   "name": "python3"
  },
  "language_info": {
   "codemirror_mode": {
    "name": "ipython",
    "version": 3
   },
   "file_extension": ".py",
   "mimetype": "text/x-python",
   "name": "python",
   "nbconvert_exporter": "python",
   "pygments_lexer": "ipython3",
   "version": "3.7.6"
  }
 },
 "nbformat": 4,
 "nbformat_minor": 5
}
