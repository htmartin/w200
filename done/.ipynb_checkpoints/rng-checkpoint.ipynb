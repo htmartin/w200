{
 "cells": [
  {
   "cell_type": "code",
   "execution_count": null,
   "id": "633006bd",
   "metadata": {},
   "outputs": [],
   "source": [
    "# Write a program that picks a random integer from 1 to 100, \n",
    "# and has players guess the number. The rules are:\n",
    "# # If a player's guess is less than 1 or greater than 100, say \"OUT OF BOUNDS\"\n",
    "# 2. On a player's first turn, if their guess is\n",
    "#  * within 10 of the number, return \"WARM!\"\n",
    "#  * further than 10 away from the number, return \"COLD!\"\n",
    "# 3. On all subsequent turns, if a guess is \n",
    "#  * closer to the number than the previous guess return \"WARMER!\"\n",
    "#  * farther from the number than the previous guess, return \"COLDER!\"\n",
    "# 4. When the player's guess equals the number, tell them they've guessed correctly *and* how many guesses it took!\n"
   ]
  },
  {
   "cell_type": "code",
   "execution_count": 12,
   "id": "143eaff5",
   "metadata": {},
   "outputs": [
    {
     "name": "stdout",
     "output_type": "stream",
     "text": [
      "76\n"
     ]
    },
    {
     "name": "stdin",
     "output_type": "stream",
     "text": [
      "Guess a number between 1-100: 76\n"
     ]
    },
    {
     "name": "stdout",
     "output_type": "stream",
     "text": [
      "you got it!\n",
      "number of guesses =  1\n"
     ]
    }
   ],
   "source": [
    "import random    \n",
    "num = random.randint(1,101)\n",
    "print(num)\n",
    "num_guesses =0\n",
    "guess = 0 \n",
    "while guess != num:\n",
    "    guess = int(input('Guess a number between 1-100:'))\n",
    "    if guess>100 or guess<1:\n",
    "        print(\"OUT OF BOUNDS\")\n",
    "    elif guess-10 < num < guess+10 and guess != num:\n",
    "        print(\"WARM\")\n",
    "    elif num>guess+10 or num<guess-10:\n",
    "        print(\"COLD\")\n",
    "    num_guesses+=1\n",
    "\n",
    "print('you got it!')\n",
    "print('number of guesses = ',num_guesses)"
   ]
  },
  {
   "cell_type": "code",
   "execution_count": 8,
   "id": "f26e5c9e",
   "metadata": {},
   "outputs": [
    {
     "name": "stdout",
     "output_type": "stream",
     "text": [
      "COLD\n"
     ]
    }
   ],
   "source": [
    "n = 15\n",
    "g=2\n",
    "if g>100 or g<1:\n",
    "    print(\"OUT OF BOUNDS\")\n",
    "elif g-10 < n < g+10:\n",
    "    print(\"WARM\")\n",
    "elif n>g+10 or n<g-10:\n",
    "    print(\"COLD\")\n",
    "    "
   ]
  },
  {
   "cell_type": "code",
   "execution_count": null,
   "id": "d20b5d01",
   "metadata": {},
   "outputs": [],
   "source": []
  }
 ],
 "metadata": {
  "environment": {
   "name": "tf2-gpu.2-1.m46",
   "type": "gcloud",
   "uri": "gcr.io/deeplearning-platform-release/tf2-gpu.2-1:m46"
  },
  "kernelspec": {
   "display_name": "Python 3",
   "language": "python",
   "name": "python3"
  },
  "language_info": {
   "codemirror_mode": {
    "name": "ipython",
    "version": 3
   },
   "file_extension": ".py",
   "mimetype": "text/x-python",
   "name": "python",
   "nbconvert_exporter": "python",
   "pygments_lexer": "ipython3",
   "version": "3.7.6"
  }
 },
 "nbformat": 4,
 "nbformat_minor": 5
}
