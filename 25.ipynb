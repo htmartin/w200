{
 "cells": [
  {
   "cell_type": "code",
   "execution_count": null,
   "id": "5ffb16ea",
   "metadata": {},
   "outputs": [],
   "source": [
    "#index = [1, 2, 3, 4, 5, 6, 7, 8, 9, 10, 11, 12, 13, 14, 15, 16, 17, 18, 19, 20, 21, 22, 23, 24, 25, 26]\n",
    "\n",
    "\n",
    "# Write a Python program to create a Caesar encryption. \n",
    "\n",
    "#  each letter in the plaintext \n",
    "# is replaced by a letter some fixed number of positions down the alphabet. \n",
    "# For example, with a left shift of 3, D would be replaced by A, E would become B, and so on. \n",
    "\n"
   ]
  },
  {
   "cell_type": "code",
   "execution_count": 32,
   "id": "2161a625",
   "metadata": {},
   "outputs": [
    {
     "name": "stdout",
     "output_type": "stream",
     "text": [
      "for example, with a left shift of 3, d would be replaced by a, e would become b, and so on\n"
     ]
    }
   ],
   "source": [
    "text = 'For example, with a left shift of 3, D would be replaced by A, E would become B, and so on'\n",
    "#text = list(text.lower())\n",
    "text = text.lower()\n",
    "\n",
    "print(text)"
   ]
  },
  {
   "cell_type": "code",
   "execution_count": 33,
   "id": "cc88acb1",
   "metadata": {},
   "outputs": [],
   "source": [
    "alpha =[' ',',', 'a','b','c','d', 'e', 'f', 'g','h','i','j','k','l','m','n', 'o', 'p', 'q', 'r', 's', 't', 'u', 'v', 'w', 'x', 'y', 'z']\n",
    "#replace alpha[n] --> alpha[n+2] "
   ]
  },
  {
   "cell_type": "code",
   "execution_count": 34,
   "id": "ecd37ea6",
   "metadata": {},
   "outputs": [
    {
     "name": "stdout",
     "output_type": "stream",
     "text": [
      "0\n"
     ]
    }
   ],
   "source": [
    "print(alpha.index(' '))\n",
    "t = 'for'"
   ]
  },
  {
   "cell_type": "code",
   "execution_count": 35,
   "id": "e0ce6f7e",
   "metadata": {},
   "outputs": [
    {
     "name": "stdout",
     "output_type": "stream",
     "text": [
      "7\n",
      "16\n",
      "19\n",
      "0\n",
      "6\n",
      "25\n",
      "2\n",
      "14\n",
      "17\n",
      "13\n",
      "6\n",
      "1\n",
      "0\n",
      "24\n",
      "10\n",
      "21\n",
      "9\n",
      "0\n",
      "2\n",
      "0\n",
      "13\n",
      "6\n",
      "7\n",
      "21\n",
      "0\n",
      "20\n",
      "9\n",
      "10\n",
      "7\n",
      "21\n",
      "0\n",
      "16\n",
      "7\n",
      "0\n"
     ]
    },
    {
     "ename": "ValueError",
     "evalue": "'3' is not in list",
     "output_type": "error",
     "traceback": [
      "\u001b[0;31m---------------------------------------------------------------------------\u001b[0m",
      "\u001b[0;31mValueError\u001b[0m                                Traceback (most recent call last)",
      "\u001b[0;32m<ipython-input-35-74cdf54b4759>\u001b[0m in \u001b[0;36m<module>\u001b[0;34m\u001b[0m\n\u001b[1;32m      1\u001b[0m \u001b[0;32mfor\u001b[0m \u001b[0mi\u001b[0m \u001b[0;32min\u001b[0m \u001b[0mtext\u001b[0m\u001b[0;34m:\u001b[0m\u001b[0;34m\u001b[0m\u001b[0;34m\u001b[0m\u001b[0m\n\u001b[0;32m----> 2\u001b[0;31m     \u001b[0mprint\u001b[0m\u001b[0;34m(\u001b[0m\u001b[0malpha\u001b[0m\u001b[0;34m.\u001b[0m\u001b[0mindex\u001b[0m\u001b[0;34m(\u001b[0m\u001b[0mi\u001b[0m\u001b[0;34m)\u001b[0m\u001b[0;34m)\u001b[0m\u001b[0;34m\u001b[0m\u001b[0;34m\u001b[0m\u001b[0m\n\u001b[0m",
      "\u001b[0;31mValueError\u001b[0m: '3' is not in list"
     ]
    }
   ],
   "source": [
    "for i in text:\n",
    "    print(alpha.index(i))\n"
   ]
  },
  {
   "cell_type": "code",
   "execution_count": null,
   "id": "d048a565",
   "metadata": {},
   "outputs": [],
   "source": []
  }
 ],
 "metadata": {
  "environment": {
   "name": "tf2-gpu.2-1.m46",
   "type": "gcloud",
   "uri": "gcr.io/deeplearning-platform-release/tf2-gpu.2-1:m46"
  },
  "kernelspec": {
   "display_name": "Python 3",
   "language": "python",
   "name": "python3"
  },
  "language_info": {
   "codemirror_mode": {
    "name": "ipython",
    "version": 3
   },
   "file_extension": ".py",
   "mimetype": "text/x-python",
   "name": "python",
   "nbconvert_exporter": "python",
   "pygments_lexer": "ipython3",
   "version": "3.7.6"
  }
 },
 "nbformat": 4,
 "nbformat_minor": 5
}
